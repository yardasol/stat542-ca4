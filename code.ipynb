{
 "cells": [
  {
   "cell_type": "code",
   "execution_count": null,
   "id": "dd4874ed",
   "metadata": {
    "vscode": {
     "languageId": "r"
    }
   },
   "outputs": [],
   "source": [
    "library(HMM)\n",
    "library(mclust)\n",
    "library(mvtnorm)"
   ]
  },
  {
   "cell_type": "code",
   "execution_count": null,
   "id": "ad8f7ea5",
   "metadata": {
    "vscode": {
     "languageId": "r"
    }
   },
   "outputs": [],
   "source": [
    "dim(faithful)\n",
    "head(faithful)"
   ]
  },
  {
   "cell_type": "markdown",
   "id": "a6b9ffae",
   "metadata": {},
   "source": [
    "# Part 1"
   ]
  },
  {
   "cell_type": "code",
   "execution_count": null,
   "id": "8e91eac6",
   "metadata": {},
   "outputs": [],
   "source": []
  },
  {
   "cell_type": "markdown",
   "id": "e80212fe",
   "metadata": {},
   "source": [
    "### Derivations"
   ]
  },
  {
   "cell_type": "markdown",
   "id": "851f60f1",
   "metadata": {},
   "source": [
    "Marginal likelihood function\n",
    "\n",
    "$$\\begin{aligned}\n",
    "& \\prod_{i=1}^n  p(x_i \\mid p_{1:G}, \\mu_{1:G}, \\Sigma) \\\\\n",
    "= & \\prod_{i=1}^n  \\big[   p_1 N(x_i; \\mu_1, \\Sigma) + \\cdots + p_G\n",
    "N(x_i; \\mu_G, \\Sigma) \\big ]\\\\\n",
    "= & \\prod_{i=1}^n  \\Big [ p_1  \\frac{\\exp  ( - \\frac{1}{2} (x-\n",
    "\\mu_1)^t \\Sigma^{-1} (x - \\mu_1)  )}{\\sqrt{(2 \\pi)^p | \\Sigma| }}\n",
    "+ \\cdots + p_G \\frac{\\exp  ( - \\frac{1}{2} (x- \\mu_G)^t \\Sigma^{-1} (x -\n",
    "\\mu_G)  )}{\\sqrt{(2 \\pi)^p | \\Sigma| }} \\Big ]\n",
    "\\end{aligned}$$"
   ]
  },
  {
   "cell_type": "markdown",
   "id": "ea3f235d",
   "metadata": {},
   "source": [
    "Complete likelihood function\n",
    "\n",
    "$$\\begin{aligned}\n",
    "& \\prod_{i=1}^n  p(x_i, Z_i \\mid p_{1:G}, \\mu_{1:G}, \\Sigma) \\\\\n",
    "= & \\prod_{i=1}^n \\prod_{k=1}^G   \\Big [ p_k  \\frac{\\exp  ( -\n",
    "\\frac{1}{2} (x- \\mu_k)^t \\Sigma^{-1} (x - \\mu_k) )}{\\sqrt{(2 \\pi)^p |\n",
    "\\Sigma| }} \\Big ]^{\\mathbb{1}_{\\{Z_i = k \\}}}\n",
    "\\end{aligned}$$"
   ]
  },
  {
   "cell_type": "markdown",
   "id": "224f3aee",
   "metadata": {},
   "source": [
    "Distribution of $\\mathbb{Z}_i$ at the E-step\n",
    "\n",
    "$$p(x_n, \\mathbb{Z}_i = k | p_{1:G}, \\mu_{1:G}, \\Sigma) = \\frac{p_k \\mathcal{N}(x_n|\\mu_k, \\Sigma)}{\\sum_j p_j \\mathcal{N}(x_n | \\mu_j, \\Sigma)}$$\n",
    "\n",
    "where $\\mathcal{N}(x_n|\\mu_k, \\Sigma) = p_k  \\frac{\\exp  ( -\n",
    "\\frac{1}{2} (x- \\mu_k)^t \\Sigma^{-1} (x - \\mu_k) )}{\\sqrt{(2 \\pi)^p |\n",
    "\\Sigma| }}$"
   ]
  },
  {
   "cell_type": "markdown",
   "id": "eccfebc7",
   "metadata": {},
   "source": [
    "M-step objective function\n",
    "\n",
    "$$\\begin{aligned}\n",
    "g(p_{1:G}, \\mu_{1:G}, \\Sigma) =&  \\mathbb{E} \\log\n",
    "\\prod_{i=1}^n  p(x_i, Z_i \\mid p_{1:G}, \\mu_{1:G}, \\Sigma)\\\\\n",
    "=& \\mathbb{E} \\sum_{i=1}^n \\sum_{k=1}^G  \\mathbb{1}_{\\{Z_i = k \\}}\n",
    "\\log  \\Big [ p_k  \\frac{\\exp  ( - \\frac{1}{2} (x- \\mu_k)^t \\Sigma^{-1}\n",
    "(x - \\mu_k) )}{\\sqrt{(2 \\pi)^p | \\Sigma| }} \\Big ] \\\\\n",
    "=& \\sum_{i=1}^n \\sum_{k=1}^G  p_{ik}  \\log  \\Big [\n",
    "p_k  \\frac{\\exp  ( - \\frac{1}{2} (x- \\mu_k)^t \\Sigma^{-1} (x - \\mu_k)\n",
    ")}{\\sqrt{(2 \\pi)^p | \\Sigma| }} \\Big ]\n",
    "\\end{aligned}$$\n",
    "\n",
    "where the last step is due to the fact that $\\mathbb{E} [ \\mathbb{1}_{\\{Z_i = k \\}}] =\n",
    "\\mathbb{P}(Z_i = k) = p_{ik}.$\n"
   ]
  },
  {
   "cell_type": "markdown",
   "id": "f24c55c2",
   "metadata": {},
   "source": [
    "Updating formula for $p_{1:G}, \\mu_{1:G}, \\Sigma$\n",
    "\n",
    "Taking the derivative of the previous function w.r.t $p_j$, and adding a Lagrange multiplier and setting to zero, we get\n",
    "$$\n",
    "\\begin{align}\n",
    "\\frac{\\partial}{\\partial p_j} \\sum_{i=1}^n \\sum_{k=1}^G  p_{ik}  \\log p_k + \\lambda(1 - \\sum_k p_k) = & \\sum_{i=1}^np_{ij} \\frac{1}{p_{j}} - \\lambda \\\\\n",
    "=& 0\n",
    "\\end{align}\n",
    "$$\n",
    "Rearranging, we get $p_j = \\frac{\\sum_{i=1}^n p_{ij}}{\\lambda}$\n",
    "Taking the derivative of our original expression w.r.t. $\\lambda$, we get $\\sum_k p_k = 1$\n",
    "Substituting the previous result into this equation and rearranging, we get\n",
    "$$\\sum_{i=1}^n \\sum_k p_{ik} = \\lambda$$. Since $\\sum_k p_{ik} = 1$, this becomes $\\lambda = n$. So our final expression is $$\\boxed{p_k = \\frac{1}{n} \\sum_{i=1}^n p_{ik}}$$\n",
    "\n",
    "Following a similar procedure for $\\mu_k$ and $\\Sigma_k$, we have\n",
    "\n",
    "$$\\boxed{\\mu_k^\\text{new} = \\frac{\\sum_i p_{ik} x_i}{\\sum_i p_{ik}}}$$\n",
    "and \n",
    "$$\\boxed{\\Sigma_k = \\frac{\\sum_i p_{ik} (x_i - \\mu_k^\\text{new})(x_n - \\mu_k^\\text{new})^T}{\\sum_i p_{ik}}}$$"
   ]
  },
  {
   "cell_type": "code",
   "execution_count": null,
   "id": "d650ae44",
   "metadata": {
    "vscode": {
     "languageId": "r"
    }
   },
   "outputs": [],
   "source": [
    "mygauss <- function(data, mean, Sigma){\n",
    "    p = nrow(Sigma)\n",
    "    svd_obj = svd(Sigma)\n",
    "    D = svd_obj$d\n",
    "    U = svd_obj$u\n",
    "    V = svd_obj$v\n",
    "    Dt = diag(1/sqrt(D))\n",
    "    A = t(data)\n",
    "    Sinv = U %*% Dt^2 %*% t(U) \n",
    "\n",
    "    #xt = Dt %*% t(U) %*% data\n",
    "    #mt = Dt %*% t(U) %*% mean\n",
    "    #a = t(xt-mt) %*% Sinv %*% (xt-mt)\n",
    "    a = (A - mean) * (Sinv %*% (A - mean))\n",
    "    a = colSums(a)\n",
    "    return (exp(-0.5 * a)/((2*pi)^(p/2) * (det(Sigma))^0.5))\n",
    "}\n",
    "\n",
    "Estep <- function(data, G, para){\n",
    "    # Your Code\n",
    "    prob <- para$prob\n",
    "    mu <- para$mean\n",
    "    Sigma <- para$Sigma\n",
    "    loglik <- para$loglik\n",
    "    n <- nrow(data)\n",
    "    # need to come up with a way to evalue multivariate gaussian distrbutions,\n",
    "    # but let's focus on getting the algorithm correct right now.\n",
    "    # assume we have G means, G Sigmas, G pis\n",
    "    p = matrix(0, n, G)\n",
    "    for (k in 1:G){\n",
    "        p[,k] = prob[k] * mygauss(data, mu[,k], Sigma)\n",
    "    }\n",
    "    #p = prob * mygauss(data, mu, Sigma)\n",
    "    s = rowSums(p)\n",
    "    p = p / s\n",
    "  \n",
    "    # Return the n-by-G probability matrix\n",
    "    return(p)\n",
    "  }\n",
    "\n",
    "Mstep <- function(data, G, para, post.prob){ \n",
    "    # Your Code\n",
    "    # Return the updated parameters\n",
    "    para$prob = colSums(post.prob) / nrow(post.prob)\n",
    "    mu = t(data) %*% post.prob\n",
    "    #mu_sum = colSums(mu)\n",
    "    mu_sum = colSums(post.prob)\n",
    "    n = nrow(mu)\n",
    "    for (k in 1:n){\n",
    "        mu[k,] = mu[k,] / mu_sum\n",
    "    }\n",
    "    para$mean = mu\n",
    "    Sigma = matrix(0, n, n)\n",
    "    # This loop is giving the first step Sigma very close agreement with the \n",
    "    # R method, but not exact agreement. \n",
    "    for (k in 1:G) {\n",
    "        x = t(data) - mu[,k]\n",
    "        P = diag(post.prob[,k])\n",
    "        Sigma = Sigma + (x %*% P %*% t(x))\n",
    "    }\n",
    "    \n",
    "    para$Sigma = Sigma / nrow(post.prob)\n",
    "    \n",
    "    return (para)\n",
    "  }\n",
    "\n",
    "loglik <- function(data, G, para){\n",
    "    # compute loglikelihood\n",
    "    prob <- para$prob\n",
    "    mu <- para$mean\n",
    "    Sigma <- para$Sigma\n",
    "\n",
    "    n = nrow(data)\n",
    "    ll = matrix(0, n, G)\n",
    "    for (k in 1:G) {\n",
    "        ll[,k] = prob[k] * mygauss(data, mu[,k], Sigma)\n",
    "    }\n",
    "    #for (k in 1:G) {\n",
    "    #    ll[,k] = prob[k] * log(ll[,k])\n",
    "    #}\n",
    "    ll = log(rowSums(ll))\n",
    "    ll = sum(ll)\n",
    "    \n",
    "    return (ll)\n",
    "}\n",
    "\n",
    "myEM <- function(data, itmax, G, para){\n",
    "  # itmax: number of of iterations\n",
    "  # G:     number of components\n",
    "  # para:  list of (prob, mean, Sigma, loglik)\n",
    "  d = as.matrix(data)\n",
    "  for(t in 1:itmax){\n",
    "    post.prob <- Estep(d, G, para)\n",
    "    para <- Mstep(d, G, para, post.prob)\n",
    "  }\n",
    "  \n",
    "  # update para$loglik   \n",
    "  para$loglik = loglik(d, G, para)\n",
    "  \n",
    "  return(para)\n",
    "}\n",
    "\n",
    "options(digits=8)\n",
    "options()$digits"
   ]
  },
  {
   "cell_type": "code",
   "execution_count": null,
   "id": "552c7748",
   "metadata": {
    "vscode": {
     "languageId": "r"
    }
   },
   "outputs": [],
   "source": [
    "n <- nrow(faithful)\n",
    "G <- 2\n",
    "set.seed(7568)  # replace 234 by the last 4-dig of your University ID\n",
    "gID <- sample(1:G, n, replace = TRUE)\n",
    "Z <- matrix(0, n, G)\n",
    "for(k in 1:G)\n",
    "  Z[gID == k, k] <- 1 \n",
    "ini0 <- mstep(modelName=\"EEE\", faithful , Z)$parameters\n",
    "\n",
    "para0 <- list(prob = ini0$pro, \n",
    "              mean = ini0$mean,\n",
    "              Sigma = ini0$variance$Sigma, \n",
    "              loglik = NULL)"
   ]
  },
  {
   "cell_type": "code",
   "execution_count": null,
   "id": "d82bfcdf",
   "metadata": {},
   "outputs": [],
   "source": [
    "# Test E step\n",
    "para_test <- list(pro = ini0$pro,\n",
    "                  mean = ini0$mean,\n",
    "                  variance = ini0$variance,\n",
    "                  Vinv = NULL)\n",
    "test.prob <- estep(data=faithful, modelName=\"EEE\", parameters=para_test)$z\n",
    "\n",
    "d = as.matrix(faithful)\n",
    "post.prob <- Estep(d, G, para0)\n",
    "print(\"Error between mclust estep and our Estep\")\n",
    "(test.prob - post.prob) / test.prob\n",
    "\n",
    "# Test MStep\n",
    "testm_res <- mstep(data=faithful, modelName=\"EEE\", z = post.prob)$parameters\n",
    "para <- Mstep(d, G, para0, post.prob)\n",
    "\n",
    "print(\"Error between mclust mstep and our Mstep\")\n",
    "print(\"weights\")\n",
    "testm_res$pro - para$prob\n",
    "print(\"means\")\n",
    "testm_res$mean - para$mean\n",
    "print(\"Covariance matrix\")\n",
    "testm_res$variance$Sigma - para$Sigma"
   ]
  },
  {
   "cell_type": "markdown",
   "id": "b508d541",
   "metadata": {},
   "source": [
    "### G = 2"
   ]
  },
  {
   "cell_type": "code",
   "execution_count": null,
   "id": "04f29520",
   "metadata": {
    "vscode": {
     "languageId": "r"
    }
   },
   "outputs": [],
   "source": [
    "my_res <- myEM(d=faithful, itmax=20, G=G, para=para0)\n",
    "\n",
    "Rout <- em(modelName = \"EEE\", data = faithful,\n",
    "           control = emControl(eps=0, tol=0, itmax = 20), \n",
    "           parameters = ini0)\n",
    "\n",
    "prob = Rout$para$pro\n",
    "mean = Rout$para$mean\n",
    "Sigma = Rout$para$variance$Sigma\n",
    "ll = Rout$loglik\n",
    "\n",
    "print('Error between myEM and mclust em')\n",
    "print('Weights')\n",
    "(prob - my_res$prob) / prob\n",
    "print('Means')\n",
    "(mean - my_res$mean) / mean\n",
    "print('Covariance Matrix')\n",
    "(Sigma - my_res$Sigma) / Sigma\n",
    "print('Log likelihood')\n",
    "(ll - my_res$loglik) / ll"
   ]
  },
  {
   "cell_type": "markdown",
   "id": "2005b600",
   "metadata": {},
   "source": [
    "### G = 3"
   ]
  },
  {
   "cell_type": "code",
   "execution_count": null,
   "id": "2e78e38e",
   "metadata": {},
   "outputs": [],
   "source": [
    "n <- nrow(faithful)\n",
    "G <- 3\n",
    "set.seed(7568)  # replace 234 by the last 4-dig of your University ID\n",
    "gID <- sample(1:G, n, replace = TRUE)\n",
    "Z <- matrix(0, n, G)\n",
    "for(k in 1:G)\n",
    "  Z[gID == k, k] <- 1 \n",
    "ini0 <- mstep(modelName=\"EEE\", faithful , Z)$parameters\n",
    "\n",
    "para0 <- list(prob = ini0$pro, \n",
    "              mean = ini0$mean,\n",
    "              Sigma = ini0$variance$Sigma, \n",
    "              loglik = NULL)"
   ]
  },
  {
   "cell_type": "code",
   "execution_count": null,
   "id": "4f1c6f0c",
   "metadata": {},
   "outputs": [],
   "source": [
    "my_res <- myEM(d=faithful, itmax=20, G=G, para=para0)\n",
    "\n",
    "Rout <- em(modelName = \"EEE\", data = faithful,\n",
    "           control = emControl(eps=0, tol=0, itmax = 20), \n",
    "           parameters = ini0)\n",
    "\n",
    "prob = Rout$para$pro\n",
    "mean = Rout$para$mean\n",
    "Sigma = Rout$para$variance$Sigma\n",
    "ll = Rout$loglik\n",
    "\n",
    "print('Error between myEM and mclust em')\n",
    "print('Weights')\n",
    "(prob - my_res$prob) / prob\n",
    "print('Means')\n",
    "(mean - my_res$mean) / mean\n",
    "print('Covariance Matrix')\n",
    "(Sigma - my_res$Sigma) / Sigma\n",
    "print('Log likelihood')\n",
    "(ll - my_res$loglik) / ll"
   ]
  },
  {
   "cell_type": "markdown",
   "id": "b0407928",
   "metadata": {},
   "source": [
    "# Problem 2"
   ]
  },
  {
   "cell_type": "code",
   "execution_count": null,
   "id": "1e778f6c",
   "metadata": {
    "vscode": {
     "languageId": "r"
    }
   },
   "outputs": [],
   "source": [
    "myBW = function(x, para, n.iter = 100){\n",
    "  # Input:\n",
    "  # x: T-by-1 observation sequence\n",
    "  # para: initial parameter value\n",
    "  # Output updated para value (A and B; we do not update w)\n",
    "  \n",
    "  for(i in 1:n.iter){\n",
    "    para = BW.onestep(x, para)\n",
    "  }\n",
    "  return(para)\n",
    "}"
   ]
  },
  {
   "cell_type": "code",
   "execution_count": null,
   "id": "21728d12",
   "metadata": {
    "vscode": {
     "languageId": "r"
    }
   },
   "outputs": [],
   "source": [
    "BW.onestep = function(x, para){\n",
    "    # Input: \n",
    "    # x: T-by-1 observation sequence\n",
    "    # para: mx, mz, and current para values for\n",
    "    #    A: initial estimate for mz-by-mz transition matrix\n",
    "    #    B: initial estimate for mz-by-mx emission matrix\n",
    "    #    w: initial estimate for mz-by-1 initial distribution over Z_1\n",
    "    # Output the updated parameters after one iteration\n",
    "    # We DO NOT update the initial distribution w\n",
    "\n",
    "    T = length(x)\n",
    "    mz = para$mz\n",
    "    mx = para$mx\n",
    "    A = para$A\n",
    "    B = para$B\n",
    "    w = para$w\n",
    "    alp = forward.prob(x, para)\n",
    "    beta = backward.prob(x, para)\n",
    "\n",
    "    myGamma = array(0, dim=c(mz, mz, T-1))\n",
    "    #######################################\n",
    "    ## YOUR CODE: \n",
    "    ## Compute gamma_t(i,j) P(Z[t] = i, Z[t+1]=j), \n",
    "    for(t in 1:T-1){\n",
    "        myGamma[,,t] = alp[t,] %*% A * B[, x[t+1]] * beta[t+1, ]\n",
    "    }\n",
    "    ## which are stored in an array, myGamma\n",
    "    #######################################\n",
    "\n",
    "    # M-step for parameter A\n",
    "    #######################################\n",
    "    ## YOUR CODE: \n",
    "    \n",
    "    t_sums = as.matrix(apply(myGamma, MARGIN=c(1,2), sum))\n",
    "    denom = colSums(t_sums)\n",
    "    A = t_sums/denom\n",
    "    \n",
    "    #######################################\n",
    "\n",
    "    # M-step for parameter B\n",
    "    #######################################\n",
    "    ## YOUR CODE: \n",
    "    \n",
    "    \n",
    "    \n",
    "    #######################################\n",
    "\n",
    "    para$A = A\n",
    "    para$B = B\n",
    "    return(para)\n",
    "}"
   ]
  },
  {
   "cell_type": "code",
   "execution_count": null,
   "id": "6901ab00",
   "metadata": {
    "vscode": {
     "languageId": "r"
    }
   },
   "outputs": [],
   "source": [
    "data = scan(\"coding4_part2_data.txt\")\n",
    "\n",
    "mz = 2\n",
    "mx = 3\n",
    "ini.w = rep(1, mz); ini.w = ini.w / sum(ini.w)\n",
    "ini.A = matrix(1, 2, 2); ini.A = ini.A / rowSums(ini.A)\n",
    "ini.B = matrix(1:6, 2, 3); ini.B = ini.B / rowSums(ini.B)\n",
    "ini.para = list(mz = 2, mx = 3, w = ini.w,\n",
    "                A = ini.A, B = ini.B)"
   ]
  },
  {
   "cell_type": "code",
   "execution_count": null,
   "id": "690c6ee1",
   "metadata": {
    "vscode": {
     "languageId": "r"
    }
   },
   "outputs": [],
   "source": [
    "myout = myBW(data, ini.para, n.iter = 100)"
   ]
  },
  {
   "cell_type": "code",
   "execution_count": null,
   "id": "70ffb920",
   "metadata": {
    "vscode": {
     "languageId": "r"
    }
   },
   "outputs": [],
   "source": [
    "forward.prob = function(x, para){\n",
    "  # Output the forward probability matrix alp \n",
    "  # alp: T by mz, (t, i) entry = P(x_{1:t}, Z_t = i)\n",
    "  T = length(x)\n",
    "  mz = para$mz\n",
    "  A = para$A\n",
    "  B = para$B\n",
    "  w = para$w\n",
    "  alp = matrix(0, T, mz)\n",
    "  \n",
    "  # fill in the first row of alp\n",
    "  alp[1, ] = w * B[, x[1]]\n",
    "  # Recursively compute the remaining rows of alp\n",
    "  for(t in 2:T){\n",
    "    tmp = alp[t-1, ] %*% A\n",
    "    alp[t, ] = tmp * B[, x[t]]\n",
    "    }\n",
    "  return(alp)\n",
    "}\n",
    "\n",
    "backward.prob = function(x, para){\n",
    "  # Output the backward probability matrix beta\n",
    "  # beta: T by mz, (t, i) entry = P(x_{1:t}, Z_t = i)\n",
    "  T = length(x)\n",
    "  mz = para$mz\n",
    "  A = para$A\n",
    "  B = para$B\n",
    "  w = para$w\n",
    "  beta = matrix(1, T, mz)\n",
    "\n",
    "  # The last row of beta is all 1.\n",
    "  # Recursively compute the previous rows of beta\n",
    "  for(t in (T-1):1){\n",
    "    tmp = as.matrix(beta[t+1, ] * B[, x[t+1]])  # make tmp a column vector\n",
    "    beta[t, ] = t(A %*% tmp)\n",
    "    }\n",
    "  return(beta)\n",
    "}"
   ]
  },
  {
   "cell_type": "code",
   "execution_count": null,
   "id": "c53ae0f2",
   "metadata": {
    "vscode": {
     "languageId": "r"
    }
   },
   "outputs": [],
   "source": [
    "myViterbi = function(x, para){\n",
    "  # Output: most likely sequence of Z (T-by-1)\n",
    "  T = length(x)\n",
    "  mz = para$mz\n",
    "  A = para$A\n",
    "  B = para$B\n",
    "  w = para$w\n",
    "  log.A = log(A)\n",
    "  log.w = log(w)\n",
    "  log.B = log(B)\n",
    "  \n",
    "  # Compute delta (in log-scale)\n",
    "  delta = matrix(0, T, mz) \n",
    "  # fill in the first row of delta\n",
    "  delta[1, ] = log.w + log.B[, x[1]]\n",
    "  \n",
    "  #######################################\n",
    "  ## YOUR CODE: \n",
    "  ## Recursively compute the remaining rows of delta\n",
    "  #######################################\n",
    "  \n",
    "  # Compute the most prob sequence Z\n",
    "  Z = rep(0, T)\n",
    "  # start with the last entry of Z\n",
    "  Z[T] = which.max(delta[T, ])\n",
    "  \n",
    "  #######################################\n",
    "  ## YOUR CODE: \n",
    "  ## Recursively compute the remaining entries of Z\n",
    "  #######################################\n",
    "  \n",
    "  return(Z)\n",
    "}"
   ]
  },
  {
   "cell_type": "code",
   "execution_count": null,
   "id": "90f2495e",
   "metadata": {
    "vscode": {
     "languageId": "r"
    }
   },
   "outputs": [],
   "source": [
    "data = scan(\"coding4_part2_data.txt\")\n",
    "\n",
    "mz = 2\n",
    "mx = 3\n",
    "ini.w = rep(1, mz); ini.w = ini.w / sum(ini.w)\n",
    "ini.A = matrix(1, 2, 2); ini.A = ini.A / rowSums(ini.A)\n",
    "ini.B = matrix(1:6, 2, 3); ini.B = ini.B / rowSums(ini.B)\n",
    "ini.para = list(mz = 2, mx = 3, w = ini.w,\n",
    "                A = ini.A, B = ini.B)\n",
    "\n",
    "myout = myBW(data, ini.para, n.iter = 100)\n",
    "myout.Z = myViterbi(data, myout)\n",
    "myout.Z[myout.Z==1] = 'A'\n",
    "myout.Z[myout.Z==2] = 'B'"
   ]
  },
  {
   "cell_type": "code",
   "execution_count": null,
   "id": "63bd5a7b",
   "metadata": {
    "vscode": {
     "languageId": "r"
    }
   },
   "outputs": [],
   "source": [
    "library(HMM)\n",
    "hmm0 =initHMM(c(\"A\", \"B\"), c(1, 2, 3),\n",
    "              startProbs = ini.w,\n",
    "              transProbs = ini.A, \n",
    "              emissionProbs = ini.B)\n",
    "Rout = baumWelch(hmm0, data, maxIterations=100, delta=1E-9, pseudoCount=0)\n",
    "Rout.Z = viterbi(Rout$hmm, data)"
   ]
  },
  {
   "cell_type": "code",
   "execution_count": null,
   "id": "855aed9f",
   "metadata": {
    "vscode": {
     "languageId": "r"
    }
   },
   "outputs": [],
   "source": [
    "options(digits=8)\n",
    "options()$digits"
   ]
  },
  {
   "cell_type": "code",
   "execution_count": null,
   "id": "21eacb59",
   "metadata": {
    "vscode": {
     "languageId": "r"
    }
   },
   "outputs": [],
   "source": [
    "myout$A\n",
    "Rout$hmm$transProbs"
   ]
  },
  {
   "cell_type": "code",
   "execution_count": null,
   "id": "c4cf9cc2",
   "metadata": {
    "vscode": {
     "languageId": "r"
    }
   },
   "outputs": [],
   "source": [
    "myout$B\n",
    "Rout$hmm$emissionProbs"
   ]
  },
  {
   "cell_type": "code",
   "execution_count": null,
   "id": "16c6b6a8",
   "metadata": {
    "vscode": {
     "languageId": "r"
    }
   },
   "outputs": [],
   "source": [
    "cbind(Rout.Z, myout.Z)[c(1:10, 180:200), ]\n",
    "sum(Rout.Z != myout.Z)"
   ]
  }
 ],
 "metadata": {
  "kernelspec": {
   "display_name": "R",
   "language": "R",
   "name": "ir"
  },
  "language_info": {
   "codemirror_mode": "r",
   "file_extension": ".r",
   "mimetype": "text/x-r-source",
   "name": "R",
   "pygments_lexer": "r",
   "version": "4.1.2"
  }
 },
 "nbformat": 4,
 "nbformat_minor": 5
}
