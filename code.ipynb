{
 "cells": [
  {
   "cell_type": "code",
   "execution_count": null,
   "id": "dd4874ed",
   "metadata": {},
   "outputs": [],
   "source": [
    "library(HMM)\n",
    "library(mclust)\n",
    "library(mvtnorm)"
   ]
  },
  {
   "cell_type": "code",
   "execution_count": null,
   "id": "ad8f7ea5",
   "metadata": {},
   "outputs": [],
   "source": [
    "dim(faithful)\n",
    "head(faithful)"
   ]
  },
  {
   "cell_type": "code",
   "execution_count": null,
   "id": "d650ae44",
   "metadata": {},
   "outputs": [],
   "source": [
    "mygauss <- function(data, mean, Sigma){\n",
    "    p = nrow(Sigma)\n",
    "    svd_obj = svd(Sigma)\n",
    "    D = svd_obj$d\n",
    "    U = svd_obj$u\n",
    "    V = svd_obj$v\n",
    "    Dt = diag(1/sqrt(D))\n",
    "    A = t(data)\n",
    "    Sinv = U %*% Dt^2 %*% t(U) \n",
    "\n",
    "    #xt = Dt %*% t(U) %*% data\n",
    "    #mt = Dt %*% t(U) %*% mean\n",
    "    #a = t(xt-mt) %*% Sinv %*% (xt-mt)\n",
    "    a = (A - mean) * (Sinv %*% (A - mean))\n",
    "    a = colSums(a)\n",
    "    return (exp(-0.5 * a)/((2*pi)^p * (det(Sigma))^0.5))\n",
    "}\n",
    "\n",
    "Estep <- function(data, G, para){\n",
    "    # Your Code\n",
    "    prob <- para$prob\n",
    "    mu <- para$mean\n",
    "    Sigma <- para$Sigma\n",
    "    loglik <- para$loglik\n",
    "    n <- nrow(data)\n",
    "    # need to come up with a way to evalue multivariate gaussian distrbutions,\n",
    "    # but let's focus on getting the algorithm correct right now.\n",
    "    # assume we have G means, G Sigmas, G pis\n",
    "    p = matrix(0, n, G)\n",
    "    for (k in 1:G){\n",
    "        p[,k] = prob[k] * mygauss(data, mu[,k], Sigma)\n",
    "    }\n",
    "    #p = prob * mygauss(data, mu, Sigma)\n",
    "    s = rowSums(p)\n",
    "    p = p / s\n",
    "  \n",
    "    # Return the n-by-G probability matrix\n",
    "    return(p)\n",
    "  }\n",
    "\n",
    "Mstep <- function(data, G, para, post.prob){ \n",
    "    # Your Code\n",
    "    # Return the updated parameters\n",
    "    para$prob = colSums(post.prob) / nrow(post.prob)\n",
    "    mu = t(data) %*% post.prob\n",
    "    #mu_sum = colSums(mu)\n",
    "    mu_sum = colSums(post.prob)\n",
    "    n = nrow(mu)\n",
    "    for (k in 1:n){\n",
    "        mu[k,] = mu[k,] / mu_sum\n",
    "    }\n",
    "    para$mean = mu\n",
    "    Sigma = matrix(0, n, n)\n",
    "    # This loop is giving the first step Sigma very close agreement with the \n",
    "    # R method, but not exact agreement. \n",
    "    for (k in 1:G) {\n",
    "        x = t(data) - mu[,k]\n",
    "        P = diag(post.prob[,k])\n",
    "        Sigma = Sigma + x %*% P %*% t(x)   \n",
    "    }\n",
    "    \n",
    "    para$Sigma = Sigma / (colSums(post.prob) * n)\n",
    "    \n",
    "    return (para)\n",
    "  }\n",
    "\n",
    "loglik <- function(data, G, para){\n",
    "    # compute loglikelihood\n",
    "    ll = para$loglik\n",
    "    \n",
    "    return (ll)\n",
    "}\n",
    "\n",
    "myEM <- function(data, itmax, G, para){\n",
    "  # itmax: number of of iterations\n",
    "  # G:     number of components\n",
    "  # para:  list of (prob, mean, Sigma, loglik)\n",
    "  d = as.matrix(data)\n",
    "  for(t in 1:itmax){\n",
    "    print(t)\n",
    "    #print(para$Sigma)\n",
    "    post.prob <- Estep(d, G, para)\n",
    "    #print(post.prob)\n",
    "    para <- Mstep(d, G, para, post.prob)\n",
    "  }\n",
    "  \n",
    "  # update para$loglik   \n",
    "  #para[4] = loglik(data, G, para)\n",
    "  \n",
    "  return(para)\n",
    "}"
   ]
  },
  {
   "cell_type": "code",
   "execution_count": null,
   "id": "552c7748",
   "metadata": {},
   "outputs": [],
   "source": [
    "n <- nrow(faithful)\n",
    "G <- 2\n",
    "set.seed(7568)  # replace 234 by the last 4-dig of your University ID\n",
    "gID <- sample(1:G, n, replace = TRUE)\n",
    "Z <- matrix(0, n, G)\n",
    "for(k in 1:G)\n",
    "  Z[gID == k, k] <- 1 \n",
    "ini0 <- mstep(modelName=\"EEE\", faithful , Z)$parameters"
   ]
  },
  {
   "cell_type": "code",
   "execution_count": null,
   "id": "a4aec24c",
   "metadata": {},
   "outputs": [],
   "source": [
    "para0 <- list(prob = ini0$pro, \n",
    "              mean = ini0$mean,\n",
    "              Sigma = ini0$variance$Sigma, \n",
    "              loglik = NULL)"
   ]
  },
  {
   "cell_type": "code",
   "execution_count": null,
   "id": "04f29520",
   "metadata": {},
   "outputs": [],
   "source": [
    "myEM(d=faithful, itmax=20, G=G, para=para0)"
   ]
  },
  {
   "cell_type": "code",
   "execution_count": null,
   "id": "c8d85230",
   "metadata": {},
   "outputs": [],
   "source": [
    "# Test E step\n",
    "para_test <- list(pro = ini0$pro,\n",
    "                  mean = ini0$mean,\n",
    "                  variance = ini0$variance,\n",
    "                  Vinv = NULL)\n",
    "estep(data=faithful, modelName=\"EEE\", parameters=para_test)$z"
   ]
  },
  {
   "cell_type": "code",
   "execution_count": null,
   "id": "ce8832b2",
   "metadata": {},
   "outputs": [],
   "source": [
    "d = as.matrix(faithful)\n",
    "G = 2\n",
    "post.prob <- Estep(d, G, para0)\n",
    "post.prob"
   ]
  },
  {
   "cell_type": "code",
   "execution_count": null,
   "id": "2c63226c",
   "metadata": {},
   "outputs": [],
   "source": [
    "# Test MStep\n",
    "testm_res <- mstep(data=faithful, modelName=\"EEE\", z = post.prob)$parameters"
   ]
  },
  {
   "cell_type": "code",
   "execution_count": null,
   "id": "92feee5c",
   "metadata": {},
   "outputs": [],
   "source": [
    "para <- Mstep(d, G, para0, post.prob)\n",
    "para"
   ]
  },
  {
   "cell_type": "code",
   "execution_count": null,
   "id": "6b0b77c2",
   "metadata": {},
   "outputs": [],
   "source": [
    "testm_res$variance$Sigma"
   ]
  },
  {
   "cell_type": "code",
   "execution_count": null,
   "id": "956aa180",
   "metadata": {},
   "outputs": [],
   "source": []
  }
 ],
 "metadata": {
  "kernelspec": {
   "display_name": "R",
   "language": "R",
   "name": "ir"
  },
  "language_info": {
   "codemirror_mode": "r",
   "file_extension": ".r",
   "mimetype": "text/x-r-source",
   "name": "R",
   "pygments_lexer": "r",
   "version": "4.1.2"
  }
 },
 "nbformat": 4,
 "nbformat_minor": 5
}
