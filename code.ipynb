{
 "cells": [
  {
   "cell_type": "code",
   "execution_count": null,
   "id": "dd4874ed",
   "metadata": {},
   "outputs": [],
   "source": [
    "library(HMM)\n",
    "library(mclust)\n",
    "library(mvtnorm)"
   ]
  },
  {
   "cell_type": "code",
   "execution_count": null,
   "id": "ad8f7ea5",
   "metadata": {},
   "outputs": [],
   "source": [
    "dim(faithful)\n",
    "head(faithful)"
   ]
  },
  {
   "cell_type": "code",
   "execution_count": null,
   "id": "d650ae44",
   "metadata": {},
   "outputs": [],
   "source": [
    "mygauss <- function(data, mean, sd){\n",
    "    p = nrow(sd)\n",
    "    svd_obj = svd(sd)\n",
    "    D = svd_obj$d\n",
    "    U = svd_obj$u\n",
    "    V = svd_obj$v\n",
    "    Dt = diag(1/sqrt(D))\n",
    "    Sinv = U %*% Dt^2 %*% t(U) \n",
    "    xt = Dt %*% t(U) %*% data\n",
    "    mt = Dt %*% t(U) %*% mean\n",
    "    a = t(xt-mt) %*% Sinv %*% (xt-mt)\n",
    "    return (exp(-0.5 * a)/((2*pi)^p * (det(sd))^0.5))\n",
    "}\n",
    "\n",
    "Estep <- function(data, G, para){\n",
    "    # Your Code\n",
    "    prob <- para$prob\n",
    "    mu <- para$mean\n",
    "    Sigma <- para$Sigma\n",
    "    loglik <- para$loglik\n",
    "    n <- nrow(data)\n",
    "    # need to come up with a way to evalue multivariate gaussian distrbutions,\n",
    "    # but let's focus on getting the algorithm correct right now.\n",
    "    # assume we have G means, G Sigmas, G pis\n",
    "    p = prob * mygauss(data, mu, Sigma)\n",
    "    sums = rowSums(p)\n",
    "    p = p / sums\n",
    "  \n",
    "    # Return the n-by-G probability matrix\n",
    "    return(prob)\n",
    "  }\n",
    "\n",
    "Mstep <- function(data, G, para, post.prob){ \n",
    "    # Your Code\n",
    "    # Return the updated parameters\n",
    "    para[1] = colSums(post.prob) / nrows(post.prob)\n",
    "    mu = t(data) %*% post.prob\n",
    "    mu_sum = colSums(mu)\n",
    "    para[2] = mu / t(mu_sum)\n",
    "    Sigma = post.prob * ((data - mu) %*% (data - mu))\n",
    "    para[3] = colSums(Sigma) / colSums(post.prob)\n",
    "    para[4] = loglik(data, G, para)\n",
    "    \n",
    "    return (para)\n",
    "  }\n",
    "\n",
    "loglik <- function(data, G, para){\n",
    "    # compute loglikelihood\n",
    "}\n",
    "\n",
    "myEM <- function(data, itmax, G, para){\n",
    "  # itmax: number of of iterations\n",
    "  # G:     number of components\n",
    "  # para:  list of (prob, mean, Sigma, loglik)\n",
    "  d = as.matrix(data)\n",
    "  for(t in 1:itmax){\n",
    "    print(t)\n",
    "    post.prob <- Estep(d, G, para)\n",
    "    para <- Mstep(d, G, para, post.prob)\n",
    "  }\n",
    "  \n",
    "  # update para$loglik   \n",
    "  \n",
    "  return(para)\n",
    "}"
   ]
  },
  {
   "cell_type": "code",
   "execution_count": null,
   "id": "552c7748",
   "metadata": {},
   "outputs": [],
   "source": [
    "n <- nrow(faithful)\n",
    "G <- 2\n",
    "set.seed(7568)  # replace 234 by the last 4-dig of your University ID\n",
    "gID <- sample(1:G, n, replace = TRUE)\n",
    "Z <- matrix(0, n, G)\n",
    "for(k in 1:G)\n",
    "  Z[gID == k, k] <- 1 \n",
    "ini0 <- mstep(modelName=\"EEE\", faithful , Z)$parameters"
   ]
  },
  {
   "cell_type": "code",
   "execution_count": null,
   "id": "a4aec24c",
   "metadata": {},
   "outputs": [],
   "source": [
    "para0 <- list(prob = ini0$pro, \n",
    "              mean = ini0$mean, \n",
    "              Sigma = ini0$variance$Sigma, \n",
    "              loglik = NULL)"
   ]
  },
  {
   "cell_type": "code",
   "execution_count": null,
   "id": "04f29520",
   "metadata": {},
   "outputs": [],
   "source": [
    "myEM(d=faithful, itmax=20, G=K, para=para0)"
   ]
  },
  {
   "cell_type": "code",
   "execution_count": null,
   "id": "0326ace0",
   "metadata": {},
   "outputs": [],
   "source": []
  }
 ],
 "metadata": {
  "kernelspec": {
   "display_name": "R",
   "language": "R",
   "name": "ir"
  },
  "language_info": {
   "codemirror_mode": "r",
   "file_extension": ".r",
   "mimetype": "text/x-r-source",
   "name": "R",
   "pygments_lexer": "r",
   "version": "4.1.2"
  }
 },
 "nbformat": 4,
 "nbformat_minor": 5
}
