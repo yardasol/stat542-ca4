{
 "cells": [
  {
   "cell_type": "code",
   "execution_count": 1,
   "id": "1b3389fa",
   "metadata": {},
   "outputs": [],
   "source": [
    "### By Olek Yardas [oyardas2]\n",
    "### and Dreycen Foiles [dfoiles2]\n",
    "\n",
    "### Work breakdown\n",
    "### Olek: part 1 algorithm, derivations, and results\n",
    "### Dreycen : part 2 algorithm, derivations, and results"
   ]
  },
  {
   "cell_type": "code",
   "execution_count": 2,
   "id": "dd4874ed",
   "metadata": {
    "vscode": {
     "languageId": "r"
    }
   },
   "outputs": [
    {
     "name": "stderr",
     "output_type": "stream",
     "text": [
      "Package 'mclust' version 5.4.10\n",
      "Type 'citation(\"mclust\")' for citing this R package in publications.\n",
      "\n"
     ]
    }
   ],
   "source": [
    "library(HMM)\n",
    "library(mclust)"
   ]
  },
  {
   "cell_type": "code",
   "execution_count": 3,
   "id": "ad8f7ea5",
   "metadata": {
    "vscode": {
     "languageId": "r"
    }
   },
   "outputs": [
    {
     "data": {
      "text/html": [
       "<style>\n",
       ".list-inline {list-style: none; margin:0; padding: 0}\n",
       ".list-inline>li {display: inline-block}\n",
       ".list-inline>li:not(:last-child)::after {content: \"\\00b7\"; padding: 0 .5ex}\n",
       "</style>\n",
       "<ol class=list-inline><li>272</li><li>2</li></ol>\n"
      ],
      "text/latex": [
       "\\begin{enumerate*}\n",
       "\\item 272\n",
       "\\item 2\n",
       "\\end{enumerate*}\n"
      ],
      "text/markdown": [
       "1. 272\n",
       "2. 2\n",
       "\n",
       "\n"
      ],
      "text/plain": [
       "[1] 272   2"
      ]
     },
     "metadata": {},
     "output_type": "display_data"
    },
    {
     "data": {
      "text/html": [
       "<table class=\"dataframe\">\n",
       "<caption>A data.frame: 6 × 2</caption>\n",
       "<thead>\n",
       "\t<tr><th></th><th scope=col>eruptions</th><th scope=col>waiting</th></tr>\n",
       "\t<tr><th></th><th scope=col>&lt;dbl&gt;</th><th scope=col>&lt;dbl&gt;</th></tr>\n",
       "</thead>\n",
       "<tbody>\n",
       "\t<tr><th scope=row>1</th><td>3.600</td><td>79</td></tr>\n",
       "\t<tr><th scope=row>2</th><td>1.800</td><td>54</td></tr>\n",
       "\t<tr><th scope=row>3</th><td>3.333</td><td>74</td></tr>\n",
       "\t<tr><th scope=row>4</th><td>2.283</td><td>62</td></tr>\n",
       "\t<tr><th scope=row>5</th><td>4.533</td><td>85</td></tr>\n",
       "\t<tr><th scope=row>6</th><td>2.883</td><td>55</td></tr>\n",
       "</tbody>\n",
       "</table>\n"
      ],
      "text/latex": [
       "A data.frame: 6 × 2\n",
       "\\begin{tabular}{r|ll}\n",
       "  & eruptions & waiting\\\\\n",
       "  & <dbl> & <dbl>\\\\\n",
       "\\hline\n",
       "\t1 & 3.600 & 79\\\\\n",
       "\t2 & 1.800 & 54\\\\\n",
       "\t3 & 3.333 & 74\\\\\n",
       "\t4 & 2.283 & 62\\\\\n",
       "\t5 & 4.533 & 85\\\\\n",
       "\t6 & 2.883 & 55\\\\\n",
       "\\end{tabular}\n"
      ],
      "text/markdown": [
       "\n",
       "A data.frame: 6 × 2\n",
       "\n",
       "| <!--/--> | eruptions &lt;dbl&gt; | waiting &lt;dbl&gt; |\n",
       "|---|---|---|\n",
       "| 1 | 3.600 | 79 |\n",
       "| 2 | 1.800 | 54 |\n",
       "| 3 | 3.333 | 74 |\n",
       "| 4 | 2.283 | 62 |\n",
       "| 5 | 4.533 | 85 |\n",
       "| 6 | 2.883 | 55 |\n",
       "\n"
      ],
      "text/plain": [
       "  eruptions waiting\n",
       "1 3.600     79     \n",
       "2 1.800     54     \n",
       "3 3.333     74     \n",
       "4 2.283     62     \n",
       "5 4.533     85     \n",
       "6 2.883     55     "
      ]
     },
     "metadata": {},
     "output_type": "display_data"
    }
   ],
   "source": [
    "dim(faithful)\n",
    "head(faithful)"
   ]
  },
  {
   "cell_type": "markdown",
   "id": "a6b9ffae",
   "metadata": {},
   "source": [
    "# Part 1"
   ]
  },
  {
   "cell_type": "code",
   "execution_count": null,
   "id": "8e91eac6",
   "metadata": {},
   "outputs": [],
   "source": []
  },
  {
   "cell_type": "markdown",
   "id": "e80212fe",
   "metadata": {},
   "source": [
    "### Derivations"
   ]
  },
  {
   "cell_type": "markdown",
   "id": "851f60f1",
   "metadata": {},
   "source": [
    "Marginal likelihood function\n",
    "\n",
    "$$\\begin{aligned}\n",
    "& \\prod_{i=1}^n  p(x_i \\mid p_{1:G}, \\mu_{1:G}, \\Sigma) \\\\\n",
    "= & \\prod_{i=1}^n  \\big[   p_1 N(x_i; \\mu_1, \\Sigma) + \\cdots + p_G\n",
    "N(x_i; \\mu_G, \\Sigma) \\big ]\\\\\n",
    "= & \\prod_{i=1}^n  \\Big [ p_1  \\frac{\\exp  ( - \\frac{1}{2} (x-\n",
    "\\mu_1)^t \\Sigma^{-1} (x - \\mu_1)  )}{\\sqrt{(2 \\pi)^p | \\Sigma| }}\n",
    "+ \\cdots + p_G \\frac{\\exp  ( - \\frac{1}{2} (x- \\mu_G)^t \\Sigma^{-1} (x -\n",
    "\\mu_G)  )}{\\sqrt{(2 \\pi)^p | \\Sigma| }} \\Big ]\n",
    "\\end{aligned}$$"
   ]
  },
  {
   "cell_type": "markdown",
   "id": "ea3f235d",
   "metadata": {},
   "source": [
    "Complete likelihood function\n",
    "\n",
    "$$\\begin{aligned}\n",
    "& \\prod_{i=1}^n  p(x_i, Z_i \\mid p_{1:G}, \\mu_{1:G}, \\Sigma) \\\\\n",
    "= & \\prod_{i=1}^n \\prod_{k=1}^G   \\Big [ p_k  \\frac{\\exp  ( -\n",
    "\\frac{1}{2} (x- \\mu_k)^t \\Sigma^{-1} (x - \\mu_k) )}{\\sqrt{(2 \\pi)^p |\n",
    "\\Sigma| }} \\Big ]^{\\mathbb{1}_{\\{Z_i = k \\}}}\n",
    "\\end{aligned}$$"
   ]
  },
  {
   "cell_type": "markdown",
   "id": "224f3aee",
   "metadata": {},
   "source": [
    "Distribution of $\\mathbb{Z}_i$ at the E-step\n",
    "\n",
    "$$p(x_n, \\mathbb{Z}_i = k | p_{1:G}, \\mu_{1:G}, \\Sigma) = \\frac{p_k \\mathcal{N}(x_n|\\mu_k, \\Sigma)}{\\sum_j p_j \\mathcal{N}(x_n | \\mu_j, \\Sigma)}$$\n",
    "\n",
    "where $\\mathcal{N}(x_n|\\mu_k, \\Sigma) = p_k  \\frac{\\exp  ( -\n",
    "\\frac{1}{2} (x- \\mu_k)^t \\Sigma^{-1} (x - \\mu_k) )}{\\sqrt{(2 \\pi)^p |\n",
    "\\Sigma| }}$"
   ]
  },
  {
   "cell_type": "markdown",
   "id": "eccfebc7",
   "metadata": {},
   "source": [
    "M-step objective function\n",
    "\n",
    "$$\\begin{aligned}\n",
    "g(p_{1:G}, \\mu_{1:G}, \\Sigma) =&  \\mathbb{E} \\log\n",
    "\\prod_{i=1}^n  p(x_i, Z_i \\mid p_{1:G}, \\mu_{1:G}, \\Sigma)\\\\\n",
    "=& \\mathbb{E} \\sum_{i=1}^n \\sum_{k=1}^G  \\mathbb{1}_{\\{Z_i = k \\}}\n",
    "\\log  \\Big [ p_k  \\frac{\\exp  ( - \\frac{1}{2} (x- \\mu_k)^t \\Sigma^{-1}\n",
    "(x - \\mu_k) )}{\\sqrt{(2 \\pi)^p | \\Sigma| }} \\Big ] \\\\\n",
    "=& \\sum_{i=1}^n \\sum_{k=1}^G  p_{ik}  \\log  \\Big [\n",
    "p_k  \\frac{\\exp  ( - \\frac{1}{2} (x- \\mu_k)^t \\Sigma^{-1} (x - \\mu_k)\n",
    ")}{\\sqrt{(2 \\pi)^p | \\Sigma| }} \\Big ]\n",
    "\\end{aligned}$$\n",
    "\n",
    "where the last step is due to the fact that $\\mathbb{E} [ \\mathbb{1}_{\\{Z_i = k \\}}] =\n",
    "\\mathbb{P}(Z_i = k) = p_{ik}.$\n"
   ]
  },
  {
   "cell_type": "markdown",
   "id": "f24c55c2",
   "metadata": {},
   "source": [
    "Updating formula for $p_{1:G}, \\mu_{1:G}, \\Sigma$\n",
    "\n",
    "Taking the derivative of the previous function w.r.t $p_j$, and adding a Lagrange multiplier and setting to zero, we get\n",
    "$$\n",
    "\\begin{align}\n",
    "\\frac{\\partial}{\\partial p_j} \\sum_{i=1}^n \\sum_{k=1}^G  p_{ik}  \\log p_k + \\lambda(1 - \\sum_k p_k) = & \\sum_{i=1}^np_{ij} \\frac{1}{p_{j}} - \\lambda \\\\\n",
    "=& 0\n",
    "\\end{align}\n",
    "$$\n",
    "Rearranging, we get $p_j = \\frac{\\sum_{i=1}^n p_{ij}}{\\lambda}$\n",
    "Taking the derivative of our original expression w.r.t. $\\lambda$, we get $\\sum_k p_k = 1$\n",
    "Substituting the previous result into this equation and rearranging, we get\n",
    "$$\\sum_{i=1}^n \\sum_k p_{ik} = \\lambda$$. Since $\\sum_k p_{ik} = 1$, this becomes $\\lambda = n$. So our final expression is $$\\boxed{p_k = \\frac{1}{n} \\sum_{i=1}^n p_{ik}}$$\n",
    "\n",
    "Following a similar procedure for $\\mu_k$ and $\\Sigma_k$, we have\n",
    "\n",
    "$$\\boxed{\\mu_k^\\text{new} = \\frac{\\sum_i p_{ik} x_i}{\\sum_i p_{ik}}}$$\n",
    "and \n",
    "$$\\boxed{\\Sigma_k = \\frac{\\sum_i p_{ik} (x_i - \\mu_k^\\text{new})(x_n - \\mu_k^\\text{new})^T}{\\sum_i p_{ik}}}$$"
   ]
  },
  {
   "cell_type": "code",
   "execution_count": 4,
   "id": "d650ae44",
   "metadata": {
    "vscode": {
     "languageId": "r"
    }
   },
   "outputs": [
    {
     "data": {
      "text/html": [
       "8"
      ],
      "text/latex": [
       "8"
      ],
      "text/markdown": [
       "8"
      ],
      "text/plain": [
       "[1] 8"
      ]
     },
     "metadata": {},
     "output_type": "display_data"
    }
   ],
   "source": [
    "mygauss <- function(data, mean, Sigma){\n",
    "    p = nrow(Sigma)\n",
    "    svd_obj = svd(Sigma)\n",
    "    D = svd_obj$d\n",
    "    U = svd_obj$u\n",
    "    V = svd_obj$v\n",
    "    Dt = diag(1/sqrt(D))\n",
    "    A = t(data)\n",
    "    Sinv = U %*% Dt^2 %*% t(U) \n",
    "\n",
    "    #xt = Dt %*% t(U) %*% data\n",
    "    #mt = Dt %*% t(U) %*% mean\n",
    "    #a = t(xt-mt) %*% Sinv %*% (xt-mt)\n",
    "    a = (A - mean) * (Sinv %*% (A - mean))\n",
    "    a = colSums(a)\n",
    "    return (exp(-0.5 * a)/((2*pi)^(p/2) * (det(Sigma))^0.5))\n",
    "}\n",
    "\n",
    "Estep <- function(data, G, para){\n",
    "    # Your Code\n",
    "    prob <- para$prob\n",
    "    mu <- para$mean\n",
    "    Sigma <- para$Sigma\n",
    "    loglik <- para$loglik\n",
    "    n <- nrow(data)\n",
    "    # need to come up with a way to evalue multivariate gaussian distrbutions,\n",
    "    # but let's focus on getting the algorithm correct right now.\n",
    "    # assume we have G means, G Sigmas, G pis\n",
    "    p = matrix(0, n, G)\n",
    "    for (k in 1:G){\n",
    "        p[,k] = prob[k] * mygauss(data, mu[,k], Sigma)\n",
    "    }\n",
    "    #p = prob * mygauss(data, mu, Sigma)\n",
    "    s = rowSums(p)\n",
    "    p = p / s\n",
    "  \n",
    "    # Return the n-by-G probability matrix\n",
    "    return(p)\n",
    "  }\n",
    "\n",
    "Mstep <- function(data, G, para, post.prob){ \n",
    "    # Your Code\n",
    "    # Return the updated parameters\n",
    "    para$prob = colSums(post.prob) / nrow(post.prob)\n",
    "    mu = t(data) %*% post.prob\n",
    "    #mu_sum = colSums(mu)\n",
    "    mu_sum = colSums(post.prob)\n",
    "    n = nrow(mu)\n",
    "    for (k in 1:n){\n",
    "        mu[k,] = mu[k,] / mu_sum\n",
    "    }\n",
    "    para$mean = mu\n",
    "    Sigma = matrix(0, n, n)\n",
    "    # This loop is giving the first step Sigma very close agreement with the \n",
    "    # R method, but not exact agreement. \n",
    "    for (k in 1:G) {\n",
    "        x = t(data) - mu[,k]\n",
    "        P = diag(post.prob[,k])\n",
    "        Sigma = Sigma + (x %*% P %*% t(x))\n",
    "    }\n",
    "    \n",
    "    para$Sigma = Sigma / nrow(post.prob)\n",
    "    \n",
    "    return (para)\n",
    "  }\n",
    "\n",
    "loglik <- function(data, G, para){\n",
    "    # compute loglikelihood\n",
    "    prob <- para$prob\n",
    "    mu <- para$mean\n",
    "    Sigma <- para$Sigma\n",
    "\n",
    "    n = nrow(data)\n",
    "    ll = matrix(0, n, G)\n",
    "    for (k in 1:G) {\n",
    "        ll[,k] = prob[k] * mygauss(data, mu[,k], Sigma)\n",
    "    }\n",
    "    #for (k in 1:G) {\n",
    "    #    ll[,k] = prob[k] * log(ll[,k])\n",
    "    #}\n",
    "    ll = log(rowSums(ll))\n",
    "    ll = sum(ll)\n",
    "    \n",
    "    return (ll)\n",
    "}\n",
    "\n",
    "myEM <- function(data, itmax, G, para){\n",
    "  # itmax: number of of iterations\n",
    "  # G:     number of components\n",
    "  # para:  list of (prob, mean, Sigma, loglik)\n",
    "  d = as.matrix(data)\n",
    "  for(t in 1:itmax){\n",
    "    post.prob <- Estep(d, G, para)\n",
    "    para <- Mstep(d, G, para, post.prob)\n",
    "  }\n",
    "  \n",
    "  # update para$loglik   \n",
    "  para$loglik = loglik(d, G, para)\n",
    "  \n",
    "  return(para)\n",
    "}\n",
    "\n",
    "options(digits=8)\n",
    "options()$digits"
   ]
  },
  {
   "cell_type": "code",
   "execution_count": 5,
   "id": "552c7748",
   "metadata": {
    "vscode": {
     "languageId": "r"
    }
   },
   "outputs": [],
   "source": [
    "n <- nrow(faithful)\n",
    "G <- 2\n",
    "set.seed(7568)  # replace 234 by the last 4-dig of your University ID\n",
    "gID <- sample(1:G, n, replace = TRUE)\n",
    "Z <- matrix(0, n, G)\n",
    "for(k in 1:G)\n",
    "  Z[gID == k, k] <- 1 \n",
    "ini0 <- mstep(modelName=\"EEE\", faithful , Z)$parameters\n",
    "\n",
    "para0 <- list(prob = ini0$pro, \n",
    "              mean = ini0$mean,\n",
    "              Sigma = ini0$variance$Sigma, \n",
    "              loglik = NULL)"
   ]
  },
  {
   "cell_type": "markdown",
   "id": "b508d541",
   "metadata": {},
   "source": [
    "### G = 2"
   ]
  },
  {
   "cell_type": "code",
   "execution_count": 6,
   "id": "04f29520",
   "metadata": {
    "vscode": {
     "languageId": "r"
    }
   },
   "outputs": [
    {
     "name": "stdout",
     "output_type": "stream",
     "text": [
      "[1] \"Error between myEM and mclust em\"\n",
      "[1] \"Weights\"\n"
     ]
    },
    {
     "data": {
      "text/html": [
       "<style>\n",
       ".list-inline {list-style: none; margin:0; padding: 0}\n",
       ".list-inline>li {display: inline-block}\n",
       ".list-inline>li:not(:last-child)::after {content: \"\\00b7\"; padding: 0 .5ex}\n",
       "</style>\n",
       "<ol class=list-inline><li>-8.55823886264138e-16</li><li>1.03845983127635e-15</li></ol>\n"
      ],
      "text/latex": [
       "\\begin{enumerate*}\n",
       "\\item -8.55823886264138e-16\n",
       "\\item 1.03845983127635e-15\n",
       "\\end{enumerate*}\n"
      ],
      "text/markdown": [
       "1. -8.55823886264138e-16\n",
       "2. 1.03845983127635e-15\n",
       "\n",
       "\n"
      ],
      "text/plain": [
       "[1] -8.5582389e-16  1.0384598e-15"
      ]
     },
     "metadata": {},
     "output_type": "display_data"
    },
    {
     "name": "stdout",
     "output_type": "stream",
     "text": [
      "[1] \"Means\"\n"
     ]
    },
    {
     "data": {
      "text/html": [
       "<table class=\"dataframe\">\n",
       "<caption>A matrix: 2 × 2 of type dbl</caption>\n",
       "<tbody>\n",
       "\t<tr><th scope=row>eruptions</th><td> 3.2148647e-15</td><td>-5.2619209e-15</td></tr>\n",
       "\t<tr><th scope=row>waiting</th><td>-3.9712110e-15</td><td> 3.0377230e-15</td></tr>\n",
       "</tbody>\n",
       "</table>\n"
      ],
      "text/latex": [
       "A matrix: 2 × 2 of type dbl\n",
       "\\begin{tabular}{r|ll}\n",
       "\teruptions &  3.2148647e-15 & -5.2619209e-15\\\\\n",
       "\twaiting & -3.9712110e-15 &  3.0377230e-15\\\\\n",
       "\\end{tabular}\n"
      ],
      "text/markdown": [
       "\n",
       "A matrix: 2 × 2 of type dbl\n",
       "\n",
       "| eruptions |  3.2148647e-15 | -5.2619209e-15 |\n",
       "| waiting | -3.9712110e-15 |  3.0377230e-15 |\n",
       "\n"
      ],
      "text/plain": [
       "          [,1]           [,2]          \n",
       "eruptions  3.2148647e-15 -5.2619209e-15\n",
       "waiting   -3.9712110e-15  3.0377230e-15"
      ]
     },
     "metadata": {},
     "output_type": "display_data"
    },
    {
     "name": "stdout",
     "output_type": "stream",
     "text": [
      "[1] \"Covariance Matrix\"\n"
     ]
    },
    {
     "data": {
      "text/html": [
       "<table class=\"dataframe\">\n",
       "<caption>A matrix: 2 × 2 of type dbl</caption>\n",
       "<thead>\n",
       "\t<tr><th></th><th scope=col>eruptions</th><th scope=col>waiting</th></tr>\n",
       "</thead>\n",
       "<tbody>\n",
       "\t<tr><th scope=row>eruptions</th><td>-1.8988099e-15</td><td>1.2824590e-15</td></tr>\n",
       "\t<tr><th scope=row>waiting</th><td> 1.2824590e-15</td><td>4.6426469e-16</td></tr>\n",
       "</tbody>\n",
       "</table>\n"
      ],
      "text/latex": [
       "A matrix: 2 × 2 of type dbl\n",
       "\\begin{tabular}{r|ll}\n",
       "  & eruptions & waiting\\\\\n",
       "\\hline\n",
       "\teruptions & -1.8988099e-15 & 1.2824590e-15\\\\\n",
       "\twaiting &  1.2824590e-15 & 4.6426469e-16\\\\\n",
       "\\end{tabular}\n"
      ],
      "text/markdown": [
       "\n",
       "A matrix: 2 × 2 of type dbl\n",
       "\n",
       "| <!--/--> | eruptions | waiting |\n",
       "|---|---|---|\n",
       "| eruptions | -1.8988099e-15 | 1.2824590e-15 |\n",
       "| waiting |  1.2824590e-15 | 4.6426469e-16 |\n",
       "\n"
      ],
      "text/plain": [
       "          eruptions      waiting      \n",
       "eruptions -1.8988099e-15 1.2824590e-15\n",
       "waiting    1.2824590e-15 4.6426469e-16"
      ]
     },
     "metadata": {},
     "output_type": "display_data"
    },
    {
     "name": "stdout",
     "output_type": "stream",
     "text": [
      "[1] \"Log likelihood\"\n"
     ]
    },
    {
     "data": {
      "text/html": [
       "5.2886106484605e-16"
      ],
      "text/latex": [
       "5.2886106484605e-16"
      ],
      "text/markdown": [
       "5.2886106484605e-16"
      ],
      "text/plain": [
       "[1] 5.2886106e-16"
      ]
     },
     "metadata": {},
     "output_type": "display_data"
    }
   ],
   "source": [
    "my_res <- myEM(d=faithful, itmax=20, G=G, para=para0)\n",
    "\n",
    "Rout <- em(modelName = \"EEE\", data = faithful,\n",
    "           control = emControl(eps=0, tol=0, itmax = 20), \n",
    "           parameters = ini0)\n",
    "\n",
    "prob = Rout$para$pro\n",
    "mean = Rout$para$mean\n",
    "Sigma = Rout$para$variance$Sigma\n",
    "ll = Rout$loglik\n",
    "\n",
    "print('Error between myEM and mclust em')\n",
    "print('Weights')\n",
    "(prob - my_res$prob) / prob\n",
    "print('Means')\n",
    "(mean - my_res$mean) / mean\n",
    "print('Covariance Matrix')\n",
    "(Sigma - my_res$Sigma) / Sigma\n",
    "print('Log likelihood')\n",
    "(ll - my_res$loglik) / ll"
   ]
  },
  {
   "cell_type": "markdown",
   "id": "2005b600",
   "metadata": {},
   "source": [
    "### G = 3"
   ]
  },
  {
   "cell_type": "code",
   "execution_count": 7,
   "id": "2e78e38e",
   "metadata": {},
   "outputs": [],
   "source": [
    "n <- nrow(faithful)\n",
    "G <- 3\n",
    "set.seed(7568)  # replace 234 by the last 4-dig of your University ID\n",
    "gID <- sample(1:G, n, replace = TRUE)\n",
    "Z <- matrix(0, n, G)\n",
    "for(k in 1:G)\n",
    "  Z[gID == k, k] <- 1 \n",
    "ini0 <- mstep(modelName=\"EEE\", faithful , Z)$parameters\n",
    "\n",
    "para0 <- list(prob = ini0$pro, \n",
    "              mean = ini0$mean,\n",
    "              Sigma = ini0$variance$Sigma, \n",
    "              loglik = NULL)"
   ]
  },
  {
   "cell_type": "code",
   "execution_count": 8,
   "id": "4f1c6f0c",
   "metadata": {},
   "outputs": [
    {
     "name": "stdout",
     "output_type": "stream",
     "text": [
      "[1] \"Error between myEM and mclust em\"\n",
      "[1] \"Weights\"\n"
     ]
    },
    {
     "data": {
      "text/html": [
       "<style>\n",
       ".list-inline {list-style: none; margin:0; padding: 0}\n",
       ".list-inline>li {display: inline-block}\n",
       ".list-inline>li:not(:last-child)::after {content: \"\\00b7\"; padding: 0 .5ex}\n",
       "</style>\n",
       "<ol class=list-inline><li>-2.88274983824237e-15</li><li>-3.43217961212716e-16</li><li>3.93119095283141e-15</li></ol>\n"
      ],
      "text/latex": [
       "\\begin{enumerate*}\n",
       "\\item -2.88274983824237e-15\n",
       "\\item -3.43217961212716e-16\n",
       "\\item 3.93119095283141e-15\n",
       "\\end{enumerate*}\n"
      ],
      "text/markdown": [
       "1. -2.88274983824237e-15\n",
       "2. -3.43217961212716e-16\n",
       "3. 3.93119095283141e-15\n",
       "\n",
       "\n"
      ],
      "text/plain": [
       "[1] -2.8827498e-15 -3.4321796e-16  3.9311910e-15"
      ]
     },
     "metadata": {},
     "output_type": "display_data"
    },
    {
     "name": "stdout",
     "output_type": "stream",
     "text": [
      "[1] \"Means\"\n"
     ]
    },
    {
     "data": {
      "text/html": [
       "<table class=\"dataframe\">\n",
       "<caption>A matrix: 2 × 3 of type dbl</caption>\n",
       "<tbody>\n",
       "\t<tr><th scope=row>eruptions</th><td>2.7246403e-15</td><td>-3.0971074e-15</td><td> 1.1939944e-16</td></tr>\n",
       "\t<tr><th scope=row>waiting</th><td>1.9787096e-16</td><td> 4.2302086e-16</td><td>-1.9288796e-15</td></tr>\n",
       "</tbody>\n",
       "</table>\n"
      ],
      "text/latex": [
       "A matrix: 2 × 3 of type dbl\n",
       "\\begin{tabular}{r|lll}\n",
       "\teruptions & 2.7246403e-15 & -3.0971074e-15 &  1.1939944e-16\\\\\n",
       "\twaiting & 1.9787096e-16 &  4.2302086e-16 & -1.9288796e-15\\\\\n",
       "\\end{tabular}\n"
      ],
      "text/markdown": [
       "\n",
       "A matrix: 2 × 3 of type dbl\n",
       "\n",
       "| eruptions | 2.7246403e-15 | -3.0971074e-15 |  1.1939944e-16 |\n",
       "| waiting | 1.9787096e-16 |  4.2302086e-16 | -1.9288796e-15 |\n",
       "\n"
      ],
      "text/plain": [
       "          [,1]          [,2]           [,3]          \n",
       "eruptions 2.7246403e-15 -3.0971074e-15  1.1939944e-16\n",
       "waiting   1.9787096e-16  4.2302086e-16 -1.9288796e-15"
      ]
     },
     "metadata": {},
     "output_type": "display_data"
    },
    {
     "name": "stdout",
     "output_type": "stream",
     "text": [
      "[1] \"Covariance Matrix\"\n"
     ]
    },
    {
     "data": {
      "text/html": [
       "<table class=\"dataframe\">\n",
       "<caption>A matrix: 2 × 2 of type dbl</caption>\n",
       "<thead>\n",
       "\t<tr><th></th><th scope=col>eruptions</th><th scope=col>waiting</th></tr>\n",
       "</thead>\n",
       "<tbody>\n",
       "\t<tr><th scope=row>eruptions</th><td>-6.4368810e-15</td><td>-3.6078423e-15</td></tr>\n",
       "\t<tr><th scope=row>waiting</th><td>-3.6078423e-15</td><td>-3.2117496e-16</td></tr>\n",
       "</tbody>\n",
       "</table>\n"
      ],
      "text/latex": [
       "A matrix: 2 × 2 of type dbl\n",
       "\\begin{tabular}{r|ll}\n",
       "  & eruptions & waiting\\\\\n",
       "\\hline\n",
       "\teruptions & -6.4368810e-15 & -3.6078423e-15\\\\\n",
       "\twaiting & -3.6078423e-15 & -3.2117496e-16\\\\\n",
       "\\end{tabular}\n"
      ],
      "text/markdown": [
       "\n",
       "A matrix: 2 × 2 of type dbl\n",
       "\n",
       "| <!--/--> | eruptions | waiting |\n",
       "|---|---|---|\n",
       "| eruptions | -6.4368810e-15 | -3.6078423e-15 |\n",
       "| waiting | -3.6078423e-15 | -3.2117496e-16 |\n",
       "\n"
      ],
      "text/plain": [
       "          eruptions      waiting       \n",
       "eruptions -6.4368810e-15 -3.6078423e-15\n",
       "waiting   -3.6078423e-15 -3.2117496e-16"
      ]
     },
     "metadata": {},
     "output_type": "display_data"
    },
    {
     "name": "stdout",
     "output_type": "stream",
     "text": [
      "[1] \"Log likelihood\"\n"
     ]
    },
    {
     "data": {
      "text/html": [
       "-1.7630869340354e-16"
      ],
      "text/latex": [
       "-1.7630869340354e-16"
      ],
      "text/markdown": [
       "-1.7630869340354e-16"
      ],
      "text/plain": [
       "[1] -1.7630869e-16"
      ]
     },
     "metadata": {},
     "output_type": "display_data"
    }
   ],
   "source": [
    "my_res <- myEM(d=faithful, itmax=20, G=G, para=para0)\n",
    "\n",
    "Rout <- em(modelName = \"EEE\", data = faithful,\n",
    "           control = emControl(eps=0, tol=0, itmax = 20), \n",
    "           parameters = ini0)\n",
    "\n",
    "prob = Rout$para$pro\n",
    "mean = Rout$para$mean\n",
    "Sigma = Rout$para$variance$Sigma\n",
    "ll = Rout$loglik\n",
    "\n",
    "print('Error between myEM and mclust em')\n",
    "print('Weights')\n",
    "(prob - my_res$prob) / prob\n",
    "print('Means')\n",
    "(mean - my_res$mean) / mean\n",
    "print('Covariance Matrix')\n",
    "(Sigma - my_res$Sigma) / Sigma\n",
    "print('Log likelihood')\n",
    "(ll - my_res$loglik) / ll"
   ]
  },
  {
   "cell_type": "markdown",
   "id": "b0407928",
   "metadata": {},
   "source": [
    "# Problem 2"
   ]
  },
  {
   "cell_type": "code",
   "execution_count": 9,
   "id": "1e778f6c",
   "metadata": {
    "vscode": {
     "languageId": "r"
    }
   },
   "outputs": [],
   "source": [
    "myBW = function(x, para, n.iter = 100){\n",
    "  # Input:\n",
    "  # x: T-by-1 observation sequence\n",
    "  # para: initial parameter value\n",
    "  # Output updated para value (A and B; we do not update w)\n",
    "  \n",
    "  for(i in 1:n.iter){\n",
    "    para = BW.onestep(x, para)\n",
    "  }\n",
    "  return(para)\n",
    "}"
   ]
  },
  {
   "cell_type": "code",
   "execution_count": 10,
   "id": "21728d12",
   "metadata": {
    "vscode": {
     "languageId": "r"
    }
   },
   "outputs": [],
   "source": [
    "BW.onestep = function(x, para){\n",
    "    # Input: \n",
    "    # x: T-by-1 observation sequence\n",
    "    # para: mx, mz, and current para values for\n",
    "    #    A: initial estimate for mz-by-mz transition matrix\n",
    "    #    B: initial estimate for mz-by-mx emission matrix\n",
    "    #    w: initial estimate for mz-by-1 initial distribution over Z_1\n",
    "    # Output the updated parameters after one iteration\n",
    "    # We DO NOT update the initial distribution w\n",
    "\n",
    "    T = length(x)\n",
    "    mz = para$mz\n",
    "    mx = para$mx\n",
    "    A = para$A\n",
    "    B = para$B\n",
    "    w = para$w\n",
    "    alp = forward.prob(x, para)\n",
    "    beta = backward.prob(x, para)\n",
    "    \n",
    "\n",
    "    myGamma = array(0, dim=c(mz, mz, T-1))\n",
    "    myGamma_i = matrix(0, T, mz)\n",
    "    #######################################\n",
    "    ## YOUR CODE: \n",
    "    ## Compute gamma_t(i,j) P(Z[t] = i, Z[t+1]=j), \n",
    "    for (t in 1:(T-1)) {\n",
    "        for (i in 1:mz) {\n",
    "          for (j in 1:mz) {\n",
    "            myGamma[i, j, t] = alp[t,i] * A[i,j] * B[j, x[t+1]] * beta[(t+1),j]\n",
    "          }\n",
    "        }\n",
    "      }\n",
    "    \n",
    "    for (t in 1:(T-1)){\n",
    "        for (i in 1:mz){\n",
    "            myGamma_i[t,i] = sum(myGamma[i,,t] )\n",
    "        }\n",
    "    }\n",
    "\n",
    "    for (i in 1:mz){\n",
    "            myGamma_i[T,i] = sum(myGamma[,i,T-1])\n",
    "        }\n",
    "    \n",
    "\n",
    "    ## which are stored in an array, myGamma\n",
    "    #######################################\n",
    "\n",
    "    # M-step for parameter A\n",
    "    #######################################\n",
    "    ## YOUR CODE: \n",
    "    \n",
    "    A = apply(myGamma, MARGIN=c(1,2), sum)\n",
    "    A = A/rowSums(A)\n",
    "    \n",
    "    #######################################\n",
    "\n",
    "    # M-step for parameter B\n",
    "    #######################################\n",
    "    ## YOUR CODE: \n",
    "\n",
    "    B[] = 0\n",
    "    for (i in 1:mz) {\n",
    "        for (l in 1:mx) {\n",
    "          idx = which(x == l)\n",
    "          B[i,l] = sum(myGamma_i[idx,i]) / sum(myGamma_i[,i])\n",
    "        }\n",
    "      }\n",
    "\n",
    "    #######################################\n",
    "\n",
    "    para$A = A\n",
    "    para$B = B\n",
    "    return(para)\n",
    "}"
   ]
  },
  {
   "cell_type": "code",
   "execution_count": 11,
   "id": "70ffb920",
   "metadata": {
    "vscode": {
     "languageId": "r"
    }
   },
   "outputs": [],
   "source": [
    "forward.prob = function(x, para){\n",
    "  # Output the forward probability matrix alp \n",
    "  # alp: T by mz, (t, i) entry = P(x_{1:t}, Z_t = i)\n",
    "  T = length(x)\n",
    "  mz = para$mz\n",
    "  A = para$A\n",
    "  B = para$B\n",
    "  w = para$w\n",
    "  alp = matrix(0, T, mz)\n",
    "  \n",
    "  # fill in the first row of alp\n",
    "  alp[1, ] = w * B[, x[1]]\n",
    "  # Recursively compute the remaining rows of alp\n",
    "  for(t in 2:T){\n",
    "    tmp = alp[t-1, ] %*% A\n",
    "    alp[t, ] = tmp * B[, x[t]]\n",
    "    }\n",
    "  return(alp)\n",
    "}\n",
    "\n",
    "backward.prob = function(x, para){\n",
    "  # Output the backward probability matrix beta\n",
    "  # beta: T by mz, (t, i) entry = P(x_{1:t}, Z_t = i)\n",
    "  T = length(x)\n",
    "  mz = para$mz\n",
    "  A = para$A\n",
    "  B = para$B\n",
    "  w = para$w\n",
    "  beta = matrix(1, T, mz)\n",
    "\n",
    "  # The last row of beta is all 1.\n",
    "  # Recursively compute the previous rows of beta\n",
    "  for(t in (T-1):1){\n",
    "    tmp = as.matrix(beta[t+1, ] * B[, x[t+1]])  # make tmp a column vector\n",
    "    beta[t, ] = t(A %*% tmp)\n",
    "    }\n",
    "  return(beta)\n",
    "}"
   ]
  },
  {
   "cell_type": "code",
   "execution_count": 12,
   "id": "c53ae0f2",
   "metadata": {
    "vscode": {
     "languageId": "r"
    }
   },
   "outputs": [],
   "source": [
    "myViterbi = function(x, para){\n",
    "    # Output: most likely sequence of Z (T-by-1)\n",
    "    T = length(x)\n",
    "    mz = para$mz\n",
    "    A = para$A\n",
    "    B = para$B\n",
    "    w = para$w\n",
    "    log.A = log(A)\n",
    "    log.w = log(w)\n",
    "    log.B = log(B)\n",
    "\n",
    "    # Compute delta (in log-scale)\n",
    "    delta = matrix(0, T, mz) \n",
    "    # fill in the first row of delta\n",
    "    delta[1, ] = log.w + log.B[, x[1]]\n",
    "\n",
    "    #######################################\n",
    "    ## YOUR CODE: \n",
    "    ## Recursively compute the remaining rows of delta\n",
    "    for (t in 2:T){\n",
    "        for (i in 1:mz){\n",
    "            jVec = rep(0, mz)\n",
    "            for (j in 1:mz){\n",
    "                jVec[j] = delta[t-1,j] + log.A[j,i]\n",
    "            }\n",
    "            delta[t,i] = max(jVec) + log.B[i, x[t]]\n",
    "        }\n",
    "            \n",
    "    }\n",
    "\n",
    "    #######################################\n",
    "\n",
    "    # Compute the most prob sequence Z\n",
    "    Z = rep(0, T)\n",
    "    # start with the last entry of Z\n",
    "    Z[T] = which.max(delta[T, ])\n",
    "    \n",
    "    for (t in (T-1):1){\n",
    "        Z[t] = which.max(delta[t,] + log.A[,Z[t+1]])\n",
    "    }\n",
    "\n",
    "    #######################################\n",
    "    ## YOUR CODE: \n",
    "    ## Recursively compute the remaining entries of Z\n",
    "    #######################################\n",
    "\n",
    "    return(Z)\n",
    "}"
   ]
  },
  {
   "cell_type": "code",
   "execution_count": 13,
   "id": "5bfeee94",
   "metadata": {},
   "outputs": [],
   "source": [
    "data = scan(\"coding4_part2_data.txt\")\n",
    "\n",
    "mz = 2\n",
    "mx = 3\n",
    "ini.w = rep(1, mz); ini.w = ini.w / sum(ini.w)\n",
    "ini.A = matrix(1, 2, 2); ini.A = ini.A / rowSums(ini.A)\n",
    "ini.B = matrix(1:6, 2, 3); ini.B = ini.B / rowSums(ini.B)\n",
    "ini.para = list(mz = 2, mx = 3, w = ini.w,\n",
    "                A = ini.A, B = ini.B)\n",
    "\n",
    "myout = myBW(data, ini.para, n.iter = 100)\n",
    "\n",
    "myout.Z = myViterbi(data, myout)\n",
    "myout.Z[myout.Z==1] = 'A'\n",
    "myout.Z[myout.Z==2] = 'B'"
   ]
  },
  {
   "cell_type": "code",
   "execution_count": 14,
   "id": "63bd5a7b",
   "metadata": {
    "vscode": {
     "languageId": "r"
    }
   },
   "outputs": [],
   "source": [
    "library(HMM)\n",
    "hmm0 =initHMM(c(\"A\", \"B\"), c(1, 2, 3),\n",
    "              startProbs = ini.w,\n",
    "              transProbs = ini.A, \n",
    "              emissionProbs = ini.B)\n",
    "Rout = baumWelch(hmm0, data, maxIterations=100, delta=1E-9, pseudoCount=0)\n",
    "Rout.Z = viterbi(Rout$hmm, data)"
   ]
  },
  {
   "cell_type": "code",
   "execution_count": 15,
   "id": "855aed9f",
   "metadata": {
    "vscode": {
     "languageId": "r"
    }
   },
   "outputs": [
    {
     "data": {
      "text/html": [
       "8"
      ],
      "text/latex": [
       "8"
      ],
      "text/markdown": [
       "8"
      ],
      "text/plain": [
       "[1] 8"
      ]
     },
     "metadata": {},
     "output_type": "display_data"
    }
   ],
   "source": [
    "options(digits=8)\n",
    "options()$digits"
   ]
  },
  {
   "cell_type": "code",
   "execution_count": 16,
   "id": "21eacb59",
   "metadata": {
    "vscode": {
     "languageId": "r"
    }
   },
   "outputs": [
    {
     "data": {
      "text/html": [
       "<table class=\"dataframe\">\n",
       "<caption>A matrix: 2 × 2 of type dbl</caption>\n",
       "<tbody>\n",
       "\t<tr><td>0.49793938</td><td>0.50206062</td></tr>\n",
       "\t<tr><td>0.44883431</td><td>0.55116569</td></tr>\n",
       "</tbody>\n",
       "</table>\n"
      ],
      "text/latex": [
       "A matrix: 2 × 2 of type dbl\n",
       "\\begin{tabular}{ll}\n",
       "\t 0.49793938 & 0.50206062\\\\\n",
       "\t 0.44883431 & 0.55116569\\\\\n",
       "\\end{tabular}\n"
      ],
      "text/markdown": [
       "\n",
       "A matrix: 2 × 2 of type dbl\n",
       "\n",
       "| 0.49793938 | 0.50206062 |\n",
       "| 0.44883431 | 0.55116569 |\n",
       "\n"
      ],
      "text/plain": [
       "     [,1]       [,2]      \n",
       "[1,] 0.49793938 0.50206062\n",
       "[2,] 0.44883431 0.55116569"
      ]
     },
     "metadata": {},
     "output_type": "display_data"
    },
    {
     "data": {
      "text/html": [
       "<table class=\"dataframe\">\n",
       "<caption>A matrix: 2 × 2 of type dbl</caption>\n",
       "<thead>\n",
       "\t<tr><th></th><th scope=col>A</th><th scope=col>B</th></tr>\n",
       "</thead>\n",
       "<tbody>\n",
       "\t<tr><th scope=row>A</th><td>0.49793938</td><td>0.50206062</td></tr>\n",
       "\t<tr><th scope=row>B</th><td>0.44883431</td><td>0.55116569</td></tr>\n",
       "</tbody>\n",
       "</table>\n"
      ],
      "text/latex": [
       "A matrix: 2 × 2 of type dbl\n",
       "\\begin{tabular}{r|ll}\n",
       "  & A & B\\\\\n",
       "\\hline\n",
       "\tA & 0.49793938 & 0.50206062\\\\\n",
       "\tB & 0.44883431 & 0.55116569\\\\\n",
       "\\end{tabular}\n"
      ],
      "text/markdown": [
       "\n",
       "A matrix: 2 × 2 of type dbl\n",
       "\n",
       "| <!--/--> | A | B |\n",
       "|---|---|---|\n",
       "| A | 0.49793938 | 0.50206062 |\n",
       "| B | 0.44883431 | 0.55116569 |\n",
       "\n"
      ],
      "text/plain": [
       "    to\n",
       "from A          B         \n",
       "   A 0.49793938 0.50206062\n",
       "   B 0.44883431 0.55116569"
      ]
     },
     "metadata": {},
     "output_type": "display_data"
    }
   ],
   "source": [
    "myout$A\n",
    "Rout$hmm$transProbs"
   ]
  },
  {
   "cell_type": "code",
   "execution_count": 17,
   "id": "c4cf9cc2",
   "metadata": {
    "vscode": {
     "languageId": "r"
    }
   },
   "outputs": [
    {
     "data": {
      "text/html": [
       "<table class=\"dataframe\">\n",
       "<caption>A matrix: 2 × 3 of type dbl</caption>\n",
       "<tbody>\n",
       "\t<tr><td>0.22159897</td><td>0.20266127</td><td>0.57573976</td></tr>\n",
       "\t<tr><td>0.34175148</td><td>0.17866665</td><td>0.47958186</td></tr>\n",
       "</tbody>\n",
       "</table>\n"
      ],
      "text/latex": [
       "A matrix: 2 × 3 of type dbl\n",
       "\\begin{tabular}{lll}\n",
       "\t 0.22159897 & 0.20266127 & 0.57573976\\\\\n",
       "\t 0.34175148 & 0.17866665 & 0.47958186\\\\\n",
       "\\end{tabular}\n"
      ],
      "text/markdown": [
       "\n",
       "A matrix: 2 × 3 of type dbl\n",
       "\n",
       "| 0.22159897 | 0.20266127 | 0.57573976 |\n",
       "| 0.34175148 | 0.17866665 | 0.47958186 |\n",
       "\n"
      ],
      "text/plain": [
       "     [,1]       [,2]       [,3]      \n",
       "[1,] 0.22159897 0.20266127 0.57573976\n",
       "[2,] 0.34175148 0.17866665 0.47958186"
      ]
     },
     "metadata": {},
     "output_type": "display_data"
    },
    {
     "data": {
      "text/html": [
       "<table class=\"dataframe\">\n",
       "<caption>A matrix: 2 × 3 of type dbl</caption>\n",
       "<thead>\n",
       "\t<tr><th></th><th scope=col>1</th><th scope=col>2</th><th scope=col>3</th></tr>\n",
       "</thead>\n",
       "<tbody>\n",
       "\t<tr><th scope=row>A</th><td>0.22159897</td><td>0.20266127</td><td>0.57573976</td></tr>\n",
       "\t<tr><th scope=row>B</th><td>0.34175148</td><td>0.17866665</td><td>0.47958186</td></tr>\n",
       "</tbody>\n",
       "</table>\n"
      ],
      "text/latex": [
       "A matrix: 2 × 3 of type dbl\n",
       "\\begin{tabular}{r|lll}\n",
       "  & 1 & 2 & 3\\\\\n",
       "\\hline\n",
       "\tA & 0.22159897 & 0.20266127 & 0.57573976\\\\\n",
       "\tB & 0.34175148 & 0.17866665 & 0.47958186\\\\\n",
       "\\end{tabular}\n"
      ],
      "text/markdown": [
       "\n",
       "A matrix: 2 × 3 of type dbl\n",
       "\n",
       "| <!--/--> | 1 | 2 | 3 |\n",
       "|---|---|---|---|\n",
       "| A | 0.22159897 | 0.20266127 | 0.57573976 |\n",
       "| B | 0.34175148 | 0.17866665 | 0.47958186 |\n",
       "\n"
      ],
      "text/plain": [
       "      symbols\n",
       "states 1          2          3         \n",
       "     A 0.22159897 0.20266127 0.57573976\n",
       "     B 0.34175148 0.17866665 0.47958186"
      ]
     },
     "metadata": {},
     "output_type": "display_data"
    }
   ],
   "source": [
    "myout$B\n",
    "Rout$hmm$emissionProbs"
   ]
  },
  {
   "cell_type": "code",
   "execution_count": 18,
   "id": "16c6b6a8",
   "metadata": {
    "vscode": {
     "languageId": "r"
    }
   },
   "outputs": [
    {
     "data": {
      "text/html": [
       "<table class=\"dataframe\">\n",
       "<caption>A matrix: 31 × 2 of type chr</caption>\n",
       "<thead>\n",
       "\t<tr><th scope=col>Rout.Z</th><th scope=col>myout.Z</th></tr>\n",
       "</thead>\n",
       "<tbody>\n",
       "\t<tr><td>A</td><td>A</td></tr>\n",
       "\t<tr><td>A</td><td>A</td></tr>\n",
       "\t<tr><td>A</td><td>A</td></tr>\n",
       "\t<tr><td>A</td><td>A</td></tr>\n",
       "\t<tr><td>A</td><td>A</td></tr>\n",
       "\t<tr><td>A</td><td>A</td></tr>\n",
       "\t<tr><td>A</td><td>A</td></tr>\n",
       "\t<tr><td>B</td><td>B</td></tr>\n",
       "\t<tr><td>A</td><td>A</td></tr>\n",
       "\t<tr><td>A</td><td>A</td></tr>\n",
       "\t<tr><td>B</td><td>B</td></tr>\n",
       "\t<tr><td>A</td><td>A</td></tr>\n",
       "\t<tr><td>A</td><td>A</td></tr>\n",
       "\t<tr><td>A</td><td>A</td></tr>\n",
       "\t<tr><td>A</td><td>A</td></tr>\n",
       "\t<tr><td>A</td><td>A</td></tr>\n",
       "\t<tr><td>A</td><td>A</td></tr>\n",
       "\t<tr><td>A</td><td>A</td></tr>\n",
       "\t<tr><td>A</td><td>A</td></tr>\n",
       "\t<tr><td>B</td><td>B</td></tr>\n",
       "\t<tr><td>B</td><td>B</td></tr>\n",
       "\t<tr><td>B</td><td>B</td></tr>\n",
       "\t<tr><td>B</td><td>B</td></tr>\n",
       "\t<tr><td>B</td><td>B</td></tr>\n",
       "\t<tr><td>A</td><td>A</td></tr>\n",
       "\t<tr><td>A</td><td>A</td></tr>\n",
       "\t<tr><td>A</td><td>A</td></tr>\n",
       "\t<tr><td>A</td><td>A</td></tr>\n",
       "\t<tr><td>A</td><td>A</td></tr>\n",
       "\t<tr><td>A</td><td>A</td></tr>\n",
       "\t<tr><td>A</td><td>A</td></tr>\n",
       "</tbody>\n",
       "</table>\n"
      ],
      "text/latex": [
       "A matrix: 31 × 2 of type chr\n",
       "\\begin{tabular}{ll}\n",
       " Rout.Z & myout.Z\\\\\n",
       "\\hline\n",
       "\t A & A\\\\\n",
       "\t A & A\\\\\n",
       "\t A & A\\\\\n",
       "\t A & A\\\\\n",
       "\t A & A\\\\\n",
       "\t A & A\\\\\n",
       "\t A & A\\\\\n",
       "\t B & B\\\\\n",
       "\t A & A\\\\\n",
       "\t A & A\\\\\n",
       "\t B & B\\\\\n",
       "\t A & A\\\\\n",
       "\t A & A\\\\\n",
       "\t A & A\\\\\n",
       "\t A & A\\\\\n",
       "\t A & A\\\\\n",
       "\t A & A\\\\\n",
       "\t A & A\\\\\n",
       "\t A & A\\\\\n",
       "\t B & B\\\\\n",
       "\t B & B\\\\\n",
       "\t B & B\\\\\n",
       "\t B & B\\\\\n",
       "\t B & B\\\\\n",
       "\t A & A\\\\\n",
       "\t A & A\\\\\n",
       "\t A & A\\\\\n",
       "\t A & A\\\\\n",
       "\t A & A\\\\\n",
       "\t A & A\\\\\n",
       "\t A & A\\\\\n",
       "\\end{tabular}\n"
      ],
      "text/markdown": [
       "\n",
       "A matrix: 31 × 2 of type chr\n",
       "\n",
       "| Rout.Z | myout.Z |\n",
       "|---|---|\n",
       "| A | A |\n",
       "| A | A |\n",
       "| A | A |\n",
       "| A | A |\n",
       "| A | A |\n",
       "| A | A |\n",
       "| A | A |\n",
       "| B | B |\n",
       "| A | A |\n",
       "| A | A |\n",
       "| B | B |\n",
       "| A | A |\n",
       "| A | A |\n",
       "| A | A |\n",
       "| A | A |\n",
       "| A | A |\n",
       "| A | A |\n",
       "| A | A |\n",
       "| A | A |\n",
       "| B | B |\n",
       "| B | B |\n",
       "| B | B |\n",
       "| B | B |\n",
       "| B | B |\n",
       "| A | A |\n",
       "| A | A |\n",
       "| A | A |\n",
       "| A | A |\n",
       "| A | A |\n",
       "| A | A |\n",
       "| A | A |\n",
       "\n"
      ],
      "text/plain": [
       "      Rout.Z myout.Z\n",
       " [1,] A      A      \n",
       " [2,] A      A      \n",
       " [3,] A      A      \n",
       " [4,] A      A      \n",
       " [5,] A      A      \n",
       " [6,] A      A      \n",
       " [7,] A      A      \n",
       " [8,] B      B      \n",
       " [9,] A      A      \n",
       "[10,] A      A      \n",
       "[11,] B      B      \n",
       "[12,] A      A      \n",
       "[13,] A      A      \n",
       "[14,] A      A      \n",
       "[15,] A      A      \n",
       "[16,] A      A      \n",
       "[17,] A      A      \n",
       "[18,] A      A      \n",
       "[19,] A      A      \n",
       "[20,] B      B      \n",
       "[21,] B      B      \n",
       "[22,] B      B      \n",
       "[23,] B      B      \n",
       "[24,] B      B      \n",
       "[25,] A      A      \n",
       "[26,] A      A      \n",
       "[27,] A      A      \n",
       "[28,] A      A      \n",
       "[29,] A      A      \n",
       "[30,] A      A      \n",
       "[31,] A      A      "
      ]
     },
     "metadata": {},
     "output_type": "display_data"
    },
    {
     "data": {
      "text/html": [
       "0"
      ],
      "text/latex": [
       "0"
      ],
      "text/markdown": [
       "0"
      ],
      "text/plain": [
       "[1] 0"
      ]
     },
     "metadata": {},
     "output_type": "display_data"
    }
   ],
   "source": [
    "cbind(Rout.Z, myout.Z)[c(1:10, 180:200), ]\n",
    "sum(Rout.Z != myout.Z)"
   ]
  }
 ],
 "metadata": {
  "kernelspec": {
   "display_name": "R",
   "language": "R",
   "name": "ir"
  },
  "language_info": {
   "codemirror_mode": "r",
   "file_extension": ".r",
   "mimetype": "text/x-r-source",
   "name": "R",
   "pygments_lexer": "r",
   "version": "4.1.2"
  }
 },
 "nbformat": 4,
 "nbformat_minor": 5
}
