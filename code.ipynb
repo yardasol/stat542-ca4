{
 "cells": [
  {
   "cell_type": "code",
   "execution_count": 1,
   "id": "dd4874ed",
   "metadata": {
    "vscode": {
     "languageId": "r"
    }
   },
   "outputs": [
    {
     "name": "stderr",
     "output_type": "stream",
     "text": [
      "Warning message:\n",
      "\"package 'mclust' was built under R version 3.6.3\"Package 'mclust' version 5.4.7\n",
      "Type 'citation(\"mclust\")' for citing this R package in publications.\n"
     ]
    }
   ],
   "source": [
    "library(HMM)\n",
    "library(mclust)"
   ]
  },
  {
   "cell_type": "code",
   "execution_count": 2,
   "id": "ad8f7ea5",
   "metadata": {
    "vscode": {
     "languageId": "r"
    }
   },
   "outputs": [
    {
     "data": {
      "text/html": [
       "<ol class=list-inline>\n",
       "\t<li>272</li>\n",
       "\t<li>2</li>\n",
       "</ol>\n"
      ],
      "text/latex": [
       "\\begin{enumerate*}\n",
       "\\item 272\n",
       "\\item 2\n",
       "\\end{enumerate*}\n"
      ],
      "text/markdown": [
       "1. 272\n",
       "2. 2\n",
       "\n",
       "\n"
      ],
      "text/plain": [
       "[1] 272   2"
      ]
     },
     "metadata": {},
     "output_type": "display_data"
    },
    {
     "data": {
      "text/html": [
       "<table>\n",
       "<thead><tr><th scope=col>eruptions</th><th scope=col>waiting</th></tr></thead>\n",
       "<tbody>\n",
       "\t<tr><td>3.600</td><td>79   </td></tr>\n",
       "\t<tr><td>1.800</td><td>54   </td></tr>\n",
       "\t<tr><td>3.333</td><td>74   </td></tr>\n",
       "\t<tr><td>2.283</td><td>62   </td></tr>\n",
       "\t<tr><td>4.533</td><td>85   </td></tr>\n",
       "\t<tr><td>2.883</td><td>55   </td></tr>\n",
       "</tbody>\n",
       "</table>\n"
      ],
      "text/latex": [
       "\\begin{tabular}{r|ll}\n",
       " eruptions & waiting\\\\\n",
       "\\hline\n",
       "\t 3.600 & 79   \\\\\n",
       "\t 1.800 & 54   \\\\\n",
       "\t 3.333 & 74   \\\\\n",
       "\t 2.283 & 62   \\\\\n",
       "\t 4.533 & 85   \\\\\n",
       "\t 2.883 & 55   \\\\\n",
       "\\end{tabular}\n"
      ],
      "text/markdown": [
       "\n",
       "| eruptions | waiting |\n",
       "|---|---|\n",
       "| 3.600 | 79    |\n",
       "| 1.800 | 54    |\n",
       "| 3.333 | 74    |\n",
       "| 2.283 | 62    |\n",
       "| 4.533 | 85    |\n",
       "| 2.883 | 55    |\n",
       "\n"
      ],
      "text/plain": [
       "  eruptions waiting\n",
       "1 3.600     79     \n",
       "2 1.800     54     \n",
       "3 3.333     74     \n",
       "4 2.283     62     \n",
       "5 4.533     85     \n",
       "6 2.883     55     "
      ]
     },
     "metadata": {},
     "output_type": "display_data"
    }
   ],
   "source": [
    "dim(faithful)\n",
    "head(faithful)"
   ]
  },
  {
   "cell_type": "code",
   "execution_count": 3,
   "id": "d650ae44",
   "metadata": {
    "vscode": {
     "languageId": "r"
    }
   },
   "outputs": [],
   "source": [
    "mygauss <- function(data, mean, Sigma){\n",
    "    p = nrow(Sigma)\n",
    "    svd_obj = svd(Sigma)\n",
    "    D = svd_obj$d\n",
    "    U = svd_obj$u\n",
    "    V = svd_obj$v\n",
    "    Dt = diag(1/sqrt(D))\n",
    "    A = t(data)\n",
    "    Sinv = U %*% Dt^2 %*% t(U) \n",
    "\n",
    "    #xt = Dt %*% t(U) %*% data\n",
    "    #mt = Dt %*% t(U) %*% mean\n",
    "    #a = t(xt-mt) %*% Sinv %*% (xt-mt)\n",
    "    a = (A - mean) * (Sinv %*% (A - mean))\n",
    "    a = colSums(a)\n",
    "    return (exp(-0.5 * a)/((2*pi)^p * (det(Sigma))^0.5))\n",
    "}\n",
    "\n",
    "Estep <- function(data, G, para){\n",
    "    # Your Code\n",
    "    prob <- para$prob\n",
    "    mu <- para$mean\n",
    "    Sigma <- para$Sigma\n",
    "    loglik <- para$loglik\n",
    "    n <- nrow(data)\n",
    "    # need to come up with a way to evalue multivariate gaussian distrbutions,\n",
    "    # but let's focus on getting the algorithm correct right now.\n",
    "    # assume we have G means, G Sigmas, G pis\n",
    "    p = matrix(0, n, G)\n",
    "    for (k in 1:G){\n",
    "        p[,k] = prob[k] * mygauss(data, mu[,k], Sigma)\n",
    "    }\n",
    "    #p = prob * mygauss(data, mu, Sigma)\n",
    "    s = rowSums(p)\n",
    "    p = p / s\n",
    "  \n",
    "    # Return the n-by-G probability matrix\n",
    "    return(p)\n",
    "  }\n",
    "\n",
    "Mstep <- function(data, G, para, post.prob){ \n",
    "    # Your Code\n",
    "    # Return the updated parameters\n",
    "    para$prob = colSums(post.prob) / nrow(post.prob)\n",
    "    mu = t(data) %*% post.prob\n",
    "    #mu_sum = colSums(mu)\n",
    "    mu_sum = colSums(post.prob)\n",
    "    n = nrow(mu)\n",
    "    for (k in 1:n){\n",
    "        mu[k,] = mu[k,] / mu_sum\n",
    "    }\n",
    "    para$mean = mu\n",
    "    Sigma = matrix(0, n, n)\n",
    "    # This loop is giving the first step Sigma very close agreement with the \n",
    "    # R method, but not exact agreement. \n",
    "    for (k in 1:G) {\n",
    "        x = t(data) - mu[,k]\n",
    "        P = diag(post.prob[,k])\n",
    "        Sigma = Sigma + x %*% P %*% t(x)   \n",
    "    }\n",
    "    \n",
    "    para$Sigma = Sigma / (colSums(post.prob) * n)\n",
    "    \n",
    "    return (para)\n",
    "  }\n",
    "\n",
    "loglik <- function(data, G, para){\n",
    "    # compute loglikelihood\n",
    "    ll = para$loglik\n",
    "    \n",
    "    return (ll)\n",
    "}\n",
    "\n",
    "myEM <- function(data, itmax, G, para){\n",
    "  # itmax: number of of iterations\n",
    "  # G:     number of components\n",
    "  # para:  list of (prob, mean, Sigma, loglik)\n",
    "  d = as.matrix(data)\n",
    "  for(t in 1:itmax){\n",
    "    print(t)\n",
    "    #print(para$Sigma)\n",
    "    post.prob <- Estep(d, G, para)\n",
    "    #print(post.prob)\n",
    "    para <- Mstep(d, G, para, post.prob)\n",
    "  }\n",
    "  \n",
    "  # update para$loglik   \n",
    "  #para[4] = loglik(data, G, para)\n",
    "  \n",
    "  return(para)\n",
    "}"
   ]
  },
  {
   "cell_type": "code",
   "execution_count": 4,
   "id": "552c7748",
   "metadata": {
    "vscode": {
     "languageId": "r"
    }
   },
   "outputs": [],
   "source": [
    "n <- nrow(faithful)\n",
    "G <- 2\n",
    "set.seed(7568)  # replace 234 by the last 4-dig of your University ID\n",
    "gID <- sample(1:G, n, replace = TRUE)\n",
    "Z <- matrix(0, n, G)\n",
    "for(k in 1:G)\n",
    "  Z[gID == k, k] <- 1 \n",
    "ini0 <- mstep(modelName=\"EEE\", faithful , Z)$parameters"
   ]
  },
  {
   "cell_type": "code",
   "execution_count": null,
   "id": "a4aec24c",
   "metadata": {
    "vscode": {
     "languageId": "r"
    }
   },
   "outputs": [],
   "source": [
    "para0 <- list(prob = ini0$pro, \n",
    "              mean = ini0$mean,\n",
    "              Sigma = ini0$variance$Sigma, \n",
    "              loglik = NULL)"
   ]
  },
  {
   "cell_type": "code",
   "execution_count": null,
   "id": "04f29520",
   "metadata": {
    "vscode": {
     "languageId": "r"
    }
   },
   "outputs": [],
   "source": [
    "myEM(d=faithful, itmax=20, G=G, para=para0)"
   ]
  },
  {
   "cell_type": "code",
   "execution_count": null,
   "id": "c8d85230",
   "metadata": {
    "vscode": {
     "languageId": "r"
    }
   },
   "outputs": [],
   "source": [
    "# Test E step\n",
    "para_test <- list(pro = ini0$pro,\n",
    "                  mean = ini0$mean,\n",
    "                  variance = ini0$variance,\n",
    "                  Vinv = NULL)\n",
    "estep(data=faithful, modelName=\"EEE\", parameters=para_test)$z"
   ]
  },
  {
   "cell_type": "code",
   "execution_count": null,
   "id": "ce8832b2",
   "metadata": {
    "vscode": {
     "languageId": "r"
    }
   },
   "outputs": [],
   "source": [
    "d = as.matrix(faithful)\n",
    "G = 2\n",
    "post.prob <- Estep(d, G, para0)\n",
    "post.prob"
   ]
  },
  {
   "cell_type": "code",
   "execution_count": null,
   "id": "2c63226c",
   "metadata": {
    "vscode": {
     "languageId": "r"
    }
   },
   "outputs": [],
   "source": [
    "# Test MStep\n",
    "testm_res <- mstep(data=faithful, modelName=\"EEE\", z = post.prob)$parameters"
   ]
  },
  {
   "cell_type": "code",
   "execution_count": null,
   "id": "92feee5c",
   "metadata": {
    "vscode": {
     "languageId": "r"
    }
   },
   "outputs": [],
   "source": [
    "para <- Mstep(d, G, para0, post.prob)\n",
    "para"
   ]
  },
  {
   "cell_type": "code",
   "execution_count": null,
   "id": "6b0b77c2",
   "metadata": {
    "vscode": {
     "languageId": "r"
    }
   },
   "outputs": [],
   "source": [
    "testm_res$variance$Sigma"
   ]
  },
  {
   "cell_type": "code",
   "execution_count": null,
   "id": "956aa180",
   "metadata": {
    "vscode": {
     "languageId": "r"
    }
   },
   "outputs": [],
   "source": []
  },
  {
   "cell_type": "markdown",
   "id": "b0407928",
   "metadata": {},
   "source": [
    "# Problem 2"
   ]
  },
  {
   "cell_type": "code",
   "execution_count": 5,
   "id": "1e778f6c",
   "metadata": {
    "vscode": {
     "languageId": "r"
    }
   },
   "outputs": [],
   "source": [
    "myBW = function(x, para, n.iter = 100){\n",
    "  # Input:\n",
    "  # x: T-by-1 observation sequence\n",
    "  # para: initial parameter value\n",
    "  # Output updated para value (A and B; we do not update w)\n",
    "  \n",
    "  for(i in 1:n.iter){\n",
    "    para = BW.onestep(x, para)\n",
    "  }\n",
    "  return(para)\n",
    "}"
   ]
  },
  {
   "cell_type": "code",
   "execution_count": 63,
   "id": "21728d12",
   "metadata": {
    "vscode": {
     "languageId": "r"
    }
   },
   "outputs": [],
   "source": [
    "BW.onestep = function(x, para){\n",
    "    # Input: \n",
    "    # x: T-by-1 observation sequence\n",
    "    # para: mx, mz, and current para values for\n",
    "    #    A: initial estimate for mz-by-mz transition matrix\n",
    "    #    B: initial estimate for mz-by-mx emission matrix\n",
    "    #    w: initial estimate for mz-by-1 initial distribution over Z_1\n",
    "    # Output the updated parameters after one iteration\n",
    "    # We DO NOT update the initial distribution w\n",
    "\n",
    "    T = length(x)\n",
    "    mz = para$mz\n",
    "    mx = para$mx\n",
    "    A = para$A\n",
    "    B = para$B\n",
    "    w = para$w\n",
    "    alp = forward.prob(x, para)\n",
    "    beta = backward.prob(x, para)\n",
    "\n",
    "    myGamma = array(0, dim=c(mz, mz, T-1))\n",
    "    myGamma_i = matrix(0, T, mz)\n",
    "    #######################################\n",
    "    ## YOUR CODE: \n",
    "    ## Compute gamma_t(i,j) P(Z[t] = i, Z[t+1]=j), \n",
    "    for(t in 1:T-1){\n",
    "        myGamma[,,t] = alp[t,] %*% A * B[, x[t+1]] * beta[t+1, ]\n",
    "    }\n",
    "\n",
    "    myGamma_i[1:(T-1),] = t(colSums(myGamma))\n",
    "    myGamma_i[T,] = rowSums(myGamma)\n",
    "\n",
    "    ## which are stored in an array, myGamma\n",
    "    #######################################\n",
    "\n",
    "    # M-step for parameter A\n",
    "    #######################################\n",
    "    ## YOUR CODE: \n",
    "    \n",
    "    t_sums = as.matrix(apply(myGamma, MARGIN=c(1,2), sum))\n",
    "    denom = colSums(t_sums)\n",
    "    A = t_sums/denom\n",
    "    \n",
    "    #######################################\n",
    "\n",
    "    # M-step for parameter B\n",
    "    #######################################\n",
    "    ## YOUR CODE: \n",
    "\n",
    "\n",
    "    B[] = 0\n",
    "    for (i in 1:mz) {\n",
    "        for (l in 1:mx) {\n",
    "        idx = which(x[1:T] == l)                      \n",
    "        B[i,l] = sum(myGamma_i[idx,i]) / sum(myGamma_i[,i])\n",
    "        }\n",
    "    }\n",
    "    \n",
    "    #######################################\n",
    "\n",
    "    para$A = A\n",
    "    para$B = B\n",
    "    return(para)\n",
    "}"
   ]
  },
  {
   "cell_type": "code",
   "execution_count": 64,
   "id": "6901ab00",
   "metadata": {
    "vscode": {
     "languageId": "r"
    }
   },
   "outputs": [],
   "source": [
    "data = scan(\"coding4_part2_data.txt\")\n",
    "\n",
    "mz = 2\n",
    "mx = 3\n",
    "ini.w = rep(1, mz); ini.w = ini.w / sum(ini.w)\n",
    "ini.A = matrix(1, 2, 2); ini.A = ini.A / rowSums(ini.A)\n",
    "ini.B = matrix(1:6, 2, 3); ini.B = ini.B / rowSums(ini.B)\n",
    "ini.para = list(mz = 2, mx = 3, w = ini.w,\n",
    "                A = ini.A, B = ini.B)"
   ]
  },
  {
   "cell_type": "code",
   "execution_count": 65,
   "id": "690c6ee1",
   "metadata": {
    "vscode": {
     "languageId": "r"
    }
   },
   "outputs": [],
   "source": [
    "myout = myBW(data, ini.para, n.iter = 100)"
   ]
  },
  {
   "cell_type": "code",
   "execution_count": 8,
   "id": "70ffb920",
   "metadata": {
    "vscode": {
     "languageId": "r"
    }
   },
   "outputs": [],
   "source": [
    "forward.prob = function(x, para){\n",
    "  # Output the forward probability matrix alp \n",
    "  # alp: T by mz, (t, i) entry = P(x_{1:t}, Z_t = i)\n",
    "  T = length(x)\n",
    "  mz = para$mz\n",
    "  A = para$A\n",
    "  B = para$B\n",
    "  w = para$w\n",
    "  alp = matrix(0, T, mz)\n",
    "  \n",
    "  # fill in the first row of alp\n",
    "  alp[1, ] = w * B[, x[1]]\n",
    "  # Recursively compute the remaining rows of alp\n",
    "  for(t in 2:T){\n",
    "    tmp = alp[t-1, ] %*% A\n",
    "    alp[t, ] = tmp * B[, x[t]]\n",
    "    }\n",
    "  return(alp)\n",
    "}\n",
    "\n",
    "backward.prob = function(x, para){\n",
    "  # Output the backward probability matrix beta\n",
    "  # beta: T by mz, (t, i) entry = P(x_{1:t}, Z_t = i)\n",
    "  T = length(x)\n",
    "  mz = para$mz\n",
    "  A = para$A\n",
    "  B = para$B\n",
    "  w = para$w\n",
    "  beta = matrix(1, T, mz)\n",
    "\n",
    "  # The last row of beta is all 1.\n",
    "  # Recursively compute the previous rows of beta\n",
    "  for(t in (T-1):1){\n",
    "    tmp = as.matrix(beta[t+1, ] * B[, x[t+1]])  # make tmp a column vector\n",
    "    beta[t, ] = t(A %*% tmp)\n",
    "    }\n",
    "  return(beta)\n",
    "}"
   ]
  },
  {
   "cell_type": "code",
   "execution_count": 9,
   "id": "c53ae0f2",
   "metadata": {
    "vscode": {
     "languageId": "r"
    }
   },
   "outputs": [],
   "source": [
    "myViterbi = function(x, para){\n",
    "  # Output: most likely sequence of Z (T-by-1)\n",
    "  T = length(x)\n",
    "  mz = para$mz\n",
    "  A = para$A\n",
    "  B = para$B\n",
    "  w = para$w\n",
    "  log.A = log(A)\n",
    "  log.w = log(w)\n",
    "  log.B = log(B)\n",
    "  \n",
    "  # Compute delta (in log-scale)\n",
    "  delta = matrix(0, T, mz) \n",
    "  # fill in the first row of delta\n",
    "  delta[1, ] = log.w + log.B[, x[1]]\n",
    "  \n",
    "  #######################################\n",
    "  ## YOUR CODE: \n",
    "  ## Recursively compute the remaining rows of delta\n",
    "  #######################################\n",
    "  \n",
    "  # Compute the most prob sequence Z\n",
    "  Z = rep(0, T)\n",
    "  # start with the last entry of Z\n",
    "  Z[T] = which.max(delta[T, ])\n",
    "  \n",
    "  #######################################\n",
    "  ## YOUR CODE: \n",
    "  ## Recursively compute the remaining entries of Z\n",
    "  #######################################\n",
    "  \n",
    "  return(Z)\n",
    "}"
   ]
  },
  {
   "cell_type": "code",
   "execution_count": 66,
   "id": "90f2495e",
   "metadata": {
    "vscode": {
     "languageId": "r"
    }
   },
   "outputs": [],
   "source": [
    "data = scan(\"coding4_part2_data.txt\")\n",
    "\n",
    "mz = 2\n",
    "mx = 3\n",
    "ini.w = rep(1, mz); ini.w = ini.w / sum(ini.w)\n",
    "ini.A = matrix(1, 2, 2); ini.A = ini.A / rowSums(ini.A)\n",
    "ini.B = matrix(1:6, 2, 3); ini.B = ini.B / rowSums(ini.B)\n",
    "ini.para = list(mz = 2, mx = 3, w = ini.w,\n",
    "                A = ini.A, B = ini.B)\n",
    "\n",
    "myout = myBW(data, ini.para, n.iter = 100)\n",
    "myout.Z = myViterbi(data, myout)\n",
    "myout.Z[myout.Z==1] = 'A'\n",
    "myout.Z[myout.Z==2] = 'B'"
   ]
  },
  {
   "cell_type": "code",
   "execution_count": 67,
   "id": "63bd5a7b",
   "metadata": {
    "vscode": {
     "languageId": "r"
    }
   },
   "outputs": [],
   "source": [
    "library(HMM)\n",
    "hmm0 =initHMM(c(\"A\", \"B\"), c(1, 2, 3),\n",
    "              startProbs = ini.w,\n",
    "              transProbs = ini.A, \n",
    "              emissionProbs = ini.B)\n",
    "Rout = baumWelch(hmm0, data, maxIterations=100, delta=1E-9, pseudoCount=0)\n",
    "Rout.Z = viterbi(Rout$hmm, data)"
   ]
  },
  {
   "cell_type": "code",
   "execution_count": null,
   "id": "855aed9f",
   "metadata": {
    "vscode": {
     "languageId": "r"
    }
   },
   "outputs": [],
   "source": [
    "options(digits=8)\n",
    "options()$digits"
   ]
  },
  {
   "cell_type": "code",
   "execution_count": null,
   "id": "21eacb59",
   "metadata": {
    "vscode": {
     "languageId": "r"
    }
   },
   "outputs": [],
   "source": [
    "myout$A\n",
    "Rout$hmm$transProbs"
   ]
  },
  {
   "cell_type": "code",
   "execution_count": null,
   "id": "c4cf9cc2",
   "metadata": {
    "vscode": {
     "languageId": "r"
    }
   },
   "outputs": [],
   "source": [
    "myout$B\n",
    "Rout$hmm$emissionProbs"
   ]
  },
  {
   "cell_type": "code",
   "execution_count": null,
   "id": "16c6b6a8",
   "metadata": {
    "vscode": {
     "languageId": "r"
    }
   },
   "outputs": [],
   "source": [
    "cbind(Rout.Z, myout.Z)[c(1:10, 180:200), ]\n",
    "sum(Rout.Z != myout.Z)"
   ]
  }
 ],
 "metadata": {
  "kernelspec": {
   "display_name": "R",
   "language": "R",
   "name": "ir"
  },
  "language_info": {
   "codemirror_mode": "r",
   "file_extension": ".r",
   "mimetype": "text/x-r-source",
   "name": "R",
   "pygments_lexer": "r",
   "version": "3.6.1"
  }
 },
 "nbformat": 4,
 "nbformat_minor": 5
}
